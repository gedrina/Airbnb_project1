{
 "cells": [
  {
   "cell_type": "markdown",
   "id": "2bea6118",
   "metadata": {},
   "source": [
    "\n",
    "### 1. Introduction \n"
   ]
  },
  {
   "cell_type": "markdown",
   "id": "e2de8101",
   "metadata": {},
   "source": [
    "The structure of the project is as follows:\n",
    "\n",
    "- Bussiness Understanding\n",
    "- Data Understanding \n",
    "- Data Modelling \n",
    "- Conclusions "
   ]
  },
  {
   "cell_type": "markdown",
   "id": "441e333b",
   "metadata": {},
   "source": [
    "### 2.Data Understanding "
   ]
  },
  {
   "cell_type": "code",
   "execution_count": 3,
   "id": "7f89cce2",
   "metadata": {},
   "outputs": [],
   "source": [
    "#Import libraries\n",
    "import pandas as pd\n",
    "import matplotlib.pyplot as plt\n",
    "import numpy as np\n",
    "import seaborn as sns\n",
    "from sklearn.model_selection import train_test_split\n",
    "from sklearn.linear_model import LinearRegression\n",
    "from sklearn.metrics import r2_score\n",
    "%matplotlib inline "
   ]
  },
  {
   "cell_type": "code",
   "execution_count": 4,
   "id": "4b97e31b",
   "metadata": {},
   "outputs": [
    {
     "data": {
      "text/html": [
       "<div>\n",
       "<style scoped>\n",
       "    .dataframe tbody tr th:only-of-type {\n",
       "        vertical-align: middle;\n",
       "    }\n",
       "\n",
       "    .dataframe tbody tr th {\n",
       "        vertical-align: top;\n",
       "    }\n",
       "\n",
       "    .dataframe thead th {\n",
       "        text-align: right;\n",
       "    }\n",
       "</style>\n",
       "<table border=\"1\" class=\"dataframe\">\n",
       "  <thead>\n",
       "    <tr style=\"text-align: right;\">\n",
       "      <th></th>\n",
       "      <th>listing_id</th>\n",
       "      <th>date</th>\n",
       "      <th>available</th>\n",
       "      <th>price</th>\n",
       "    </tr>\n",
       "  </thead>\n",
       "  <tbody>\n",
       "    <tr>\n",
       "      <th>0</th>\n",
       "      <td>241032</td>\n",
       "      <td>2016-01-04</td>\n",
       "      <td>t</td>\n",
       "      <td>$85.00</td>\n",
       "    </tr>\n",
       "    <tr>\n",
       "      <th>1</th>\n",
       "      <td>241032</td>\n",
       "      <td>2016-01-05</td>\n",
       "      <td>t</td>\n",
       "      <td>$85.00</td>\n",
       "    </tr>\n",
       "    <tr>\n",
       "      <th>2</th>\n",
       "      <td>241032</td>\n",
       "      <td>2016-01-06</td>\n",
       "      <td>f</td>\n",
       "      <td>NaN</td>\n",
       "    </tr>\n",
       "    <tr>\n",
       "      <th>3</th>\n",
       "      <td>241032</td>\n",
       "      <td>2016-01-07</td>\n",
       "      <td>f</td>\n",
       "      <td>NaN</td>\n",
       "    </tr>\n",
       "    <tr>\n",
       "      <th>4</th>\n",
       "      <td>241032</td>\n",
       "      <td>2016-01-08</td>\n",
       "      <td>f</td>\n",
       "      <td>NaN</td>\n",
       "    </tr>\n",
       "  </tbody>\n",
       "</table>\n",
       "</div>"
      ],
      "text/plain": [
       "   listing_id        date available   price\n",
       "0      241032  2016-01-04         t  $85.00\n",
       "1      241032  2016-01-05         t  $85.00\n",
       "2      241032  2016-01-06         f     NaN\n",
       "3      241032  2016-01-07         f     NaN\n",
       "4      241032  2016-01-08         f     NaN"
      ]
     },
     "execution_count": 4,
     "metadata": {},
     "output_type": "execute_result"
    }
   ],
   "source": [
    "#calendar dataset\n",
    "df_calendar = pd.read_csv(r'C:\\Users\\DIGITRON\\Desktop\\DS_P1\\calendar.csv')\n",
    "df_calendar.head()"
   ]
  },
  {
   "cell_type": "code",
   "execution_count": 5,
   "id": "9e9f243f",
   "metadata": {},
   "outputs": [
    {
     "data": {
      "text/html": [
       "<div>\n",
       "<style scoped>\n",
       "    .dataframe tbody tr th:only-of-type {\n",
       "        vertical-align: middle;\n",
       "    }\n",
       "\n",
       "    .dataframe tbody tr th {\n",
       "        vertical-align: top;\n",
       "    }\n",
       "\n",
       "    .dataframe thead th {\n",
       "        text-align: right;\n",
       "    }\n",
       "</style>\n",
       "<table border=\"1\" class=\"dataframe\">\n",
       "  <thead>\n",
       "    <tr style=\"text-align: right;\">\n",
       "      <th></th>\n",
       "      <th>id</th>\n",
       "      <th>listing_url</th>\n",
       "      <th>scrape_id</th>\n",
       "      <th>last_scraped</th>\n",
       "      <th>name</th>\n",
       "      <th>summary</th>\n",
       "      <th>space</th>\n",
       "      <th>description</th>\n",
       "      <th>experiences_offered</th>\n",
       "      <th>neighborhood_overview</th>\n",
       "      <th>...</th>\n",
       "      <th>review_scores_value</th>\n",
       "      <th>requires_license</th>\n",
       "      <th>license</th>\n",
       "      <th>jurisdiction_names</th>\n",
       "      <th>instant_bookable</th>\n",
       "      <th>cancellation_policy</th>\n",
       "      <th>require_guest_profile_picture</th>\n",
       "      <th>require_guest_phone_verification</th>\n",
       "      <th>calculated_host_listings_count</th>\n",
       "      <th>reviews_per_month</th>\n",
       "    </tr>\n",
       "  </thead>\n",
       "  <tbody>\n",
       "    <tr>\n",
       "      <th>0</th>\n",
       "      <td>241032</td>\n",
       "      <td>https://www.airbnb.com/rooms/241032</td>\n",
       "      <td>2.016010e+13</td>\n",
       "      <td>1/4/2016</td>\n",
       "      <td>Stylish Queen Anne Apartment</td>\n",
       "      <td>NaN</td>\n",
       "      <td>Make your self at home in this charming one-be...</td>\n",
       "      <td>Make your self at home in this charming one-be...</td>\n",
       "      <td>none</td>\n",
       "      <td>NaN</td>\n",
       "      <td>...</td>\n",
       "      <td>10.0</td>\n",
       "      <td>f</td>\n",
       "      <td>NaN</td>\n",
       "      <td>WASHINGTON</td>\n",
       "      <td>f</td>\n",
       "      <td>moderate</td>\n",
       "      <td>f</td>\n",
       "      <td>f</td>\n",
       "      <td>2</td>\n",
       "      <td>4.07</td>\n",
       "    </tr>\n",
       "    <tr>\n",
       "      <th>1</th>\n",
       "      <td>953595</td>\n",
       "      <td>https://www.airbnb.com/rooms/953595</td>\n",
       "      <td>2.016010e+13</td>\n",
       "      <td>1/4/2016</td>\n",
       "      <td>Bright &amp; Airy Queen Anne Apartment</td>\n",
       "      <td>Chemically sensitive? We've removed the irrita...</td>\n",
       "      <td>Beautiful, hypoallergenic apartment in an extr...</td>\n",
       "      <td>Chemically sensitive? We've removed the irrita...</td>\n",
       "      <td>none</td>\n",
       "      <td>Queen Anne is a wonderful, truly functional vi...</td>\n",
       "      <td>...</td>\n",
       "      <td>10.0</td>\n",
       "      <td>f</td>\n",
       "      <td>NaN</td>\n",
       "      <td>WASHINGTON</td>\n",
       "      <td>f</td>\n",
       "      <td>strict</td>\n",
       "      <td>t</td>\n",
       "      <td>t</td>\n",
       "      <td>6</td>\n",
       "      <td>1.48</td>\n",
       "    </tr>\n",
       "    <tr>\n",
       "      <th>2</th>\n",
       "      <td>3308979</td>\n",
       "      <td>https://www.airbnb.com/rooms/3308979</td>\n",
       "      <td>2.016010e+13</td>\n",
       "      <td>1/4/2016</td>\n",
       "      <td>New Modern House-Amazing water view</td>\n",
       "      <td>New modern house built in 2013.  Spectacular s...</td>\n",
       "      <td>Our house is modern, light and fresh with a wa...</td>\n",
       "      <td>New modern house built in 2013.  Spectacular s...</td>\n",
       "      <td>none</td>\n",
       "      <td>Upper Queen Anne is a charming neighborhood fu...</td>\n",
       "      <td>...</td>\n",
       "      <td>10.0</td>\n",
       "      <td>f</td>\n",
       "      <td>NaN</td>\n",
       "      <td>WASHINGTON</td>\n",
       "      <td>f</td>\n",
       "      <td>strict</td>\n",
       "      <td>f</td>\n",
       "      <td>f</td>\n",
       "      <td>2</td>\n",
       "      <td>1.15</td>\n",
       "    </tr>\n",
       "    <tr>\n",
       "      <th>3</th>\n",
       "      <td>7421966</td>\n",
       "      <td>https://www.airbnb.com/rooms/7421966</td>\n",
       "      <td>2.016010e+13</td>\n",
       "      <td>1/4/2016</td>\n",
       "      <td>Queen Anne Chateau</td>\n",
       "      <td>A charming apartment that sits atop Queen Anne...</td>\n",
       "      <td>NaN</td>\n",
       "      <td>A charming apartment that sits atop Queen Anne...</td>\n",
       "      <td>none</td>\n",
       "      <td>NaN</td>\n",
       "      <td>...</td>\n",
       "      <td>NaN</td>\n",
       "      <td>f</td>\n",
       "      <td>NaN</td>\n",
       "      <td>WASHINGTON</td>\n",
       "      <td>f</td>\n",
       "      <td>flexible</td>\n",
       "      <td>f</td>\n",
       "      <td>f</td>\n",
       "      <td>1</td>\n",
       "      <td>NaN</td>\n",
       "    </tr>\n",
       "    <tr>\n",
       "      <th>4</th>\n",
       "      <td>278830</td>\n",
       "      <td>https://www.airbnb.com/rooms/278830</td>\n",
       "      <td>2.016010e+13</td>\n",
       "      <td>1/4/2016</td>\n",
       "      <td>Charming craftsman 3 bdm house</td>\n",
       "      <td>Cozy family craftman house in beautiful neighb...</td>\n",
       "      <td>Cozy family craftman house in beautiful neighb...</td>\n",
       "      <td>Cozy family craftman house in beautiful neighb...</td>\n",
       "      <td>none</td>\n",
       "      <td>We are in the beautiful neighborhood of Queen ...</td>\n",
       "      <td>...</td>\n",
       "      <td>9.0</td>\n",
       "      <td>f</td>\n",
       "      <td>NaN</td>\n",
       "      <td>WASHINGTON</td>\n",
       "      <td>f</td>\n",
       "      <td>strict</td>\n",
       "      <td>f</td>\n",
       "      <td>f</td>\n",
       "      <td>1</td>\n",
       "      <td>0.89</td>\n",
       "    </tr>\n",
       "  </tbody>\n",
       "</table>\n",
       "<p>5 rows × 92 columns</p>\n",
       "</div>"
      ],
      "text/plain": [
       "        id                           listing_url     scrape_id last_scraped  \\\n",
       "0   241032   https://www.airbnb.com/rooms/241032  2.016010e+13     1/4/2016   \n",
       "1   953595   https://www.airbnb.com/rooms/953595  2.016010e+13     1/4/2016   \n",
       "2  3308979  https://www.airbnb.com/rooms/3308979  2.016010e+13     1/4/2016   \n",
       "3  7421966  https://www.airbnb.com/rooms/7421966  2.016010e+13     1/4/2016   \n",
       "4   278830   https://www.airbnb.com/rooms/278830  2.016010e+13     1/4/2016   \n",
       "\n",
       "                                  name  \\\n",
       "0         Stylish Queen Anne Apartment   \n",
       "1   Bright & Airy Queen Anne Apartment   \n",
       "2  New Modern House-Amazing water view   \n",
       "3                   Queen Anne Chateau   \n",
       "4       Charming craftsman 3 bdm house   \n",
       "\n",
       "                                             summary  \\\n",
       "0                                                NaN   \n",
       "1  Chemically sensitive? We've removed the irrita...   \n",
       "2  New modern house built in 2013.  Spectacular s...   \n",
       "3  A charming apartment that sits atop Queen Anne...   \n",
       "4  Cozy family craftman house in beautiful neighb...   \n",
       "\n",
       "                                               space  \\\n",
       "0  Make your self at home in this charming one-be...   \n",
       "1  Beautiful, hypoallergenic apartment in an extr...   \n",
       "2  Our house is modern, light and fresh with a wa...   \n",
       "3                                                NaN   \n",
       "4  Cozy family craftman house in beautiful neighb...   \n",
       "\n",
       "                                         description experiences_offered  \\\n",
       "0  Make your self at home in this charming one-be...                none   \n",
       "1  Chemically sensitive? We've removed the irrita...                none   \n",
       "2  New modern house built in 2013.  Spectacular s...                none   \n",
       "3  A charming apartment that sits atop Queen Anne...                none   \n",
       "4  Cozy family craftman house in beautiful neighb...                none   \n",
       "\n",
       "                               neighborhood_overview  ... review_scores_value  \\\n",
       "0                                                NaN  ...                10.0   \n",
       "1  Queen Anne is a wonderful, truly functional vi...  ...                10.0   \n",
       "2  Upper Queen Anne is a charming neighborhood fu...  ...                10.0   \n",
       "3                                                NaN  ...                 NaN   \n",
       "4  We are in the beautiful neighborhood of Queen ...  ...                 9.0   \n",
       "\n",
       "  requires_license license jurisdiction_names instant_bookable  \\\n",
       "0                f     NaN         WASHINGTON                f   \n",
       "1                f     NaN         WASHINGTON                f   \n",
       "2                f     NaN         WASHINGTON                f   \n",
       "3                f     NaN         WASHINGTON                f   \n",
       "4                f     NaN         WASHINGTON                f   \n",
       "\n",
       "  cancellation_policy  require_guest_profile_picture  \\\n",
       "0            moderate                              f   \n",
       "1              strict                              t   \n",
       "2              strict                              f   \n",
       "3            flexible                              f   \n",
       "4              strict                              f   \n",
       "\n",
       "  require_guest_phone_verification calculated_host_listings_count  \\\n",
       "0                                f                              2   \n",
       "1                                t                              6   \n",
       "2                                f                              2   \n",
       "3                                f                              1   \n",
       "4                                f                              1   \n",
       "\n",
       "  reviews_per_month  \n",
       "0              4.07  \n",
       "1              1.48  \n",
       "2              1.15  \n",
       "3               NaN  \n",
       "4              0.89  \n",
       "\n",
       "[5 rows x 92 columns]"
      ]
     },
     "execution_count": 5,
     "metadata": {},
     "output_type": "execute_result"
    }
   ],
   "source": [
    "#listings dataset\n",
    "df_listings = pd.read_csv(r'C:\\Users\\DIGITRON\\Desktop\\DS_P1\\listings.csv')\n",
    "df_listings.head()"
   ]
  },
  {
   "cell_type": "code",
   "execution_count": 6,
   "id": "7cc6c469",
   "metadata": {},
   "outputs": [
    {
     "data": {
      "text/html": [
       "<div>\n",
       "<style scoped>\n",
       "    .dataframe tbody tr th:only-of-type {\n",
       "        vertical-align: middle;\n",
       "    }\n",
       "\n",
       "    .dataframe tbody tr th {\n",
       "        vertical-align: top;\n",
       "    }\n",
       "\n",
       "    .dataframe thead th {\n",
       "        text-align: right;\n",
       "    }\n",
       "</style>\n",
       "<table border=\"1\" class=\"dataframe\">\n",
       "  <thead>\n",
       "    <tr style=\"text-align: right;\">\n",
       "      <th></th>\n",
       "      <th>listing_id</th>\n",
       "      <th>id</th>\n",
       "      <th>date</th>\n",
       "      <th>reviewer_id</th>\n",
       "      <th>reviewer_name</th>\n",
       "      <th>comments</th>\n",
       "    </tr>\n",
       "  </thead>\n",
       "  <tbody>\n",
       "    <tr>\n",
       "      <th>0</th>\n",
       "      <td>7202016</td>\n",
       "      <td>38917982</td>\n",
       "      <td>2015-07-19</td>\n",
       "      <td>28943674</td>\n",
       "      <td>Bianca</td>\n",
       "      <td>Cute and cozy place. Perfect location to every...</td>\n",
       "    </tr>\n",
       "    <tr>\n",
       "      <th>1</th>\n",
       "      <td>7202016</td>\n",
       "      <td>39087409</td>\n",
       "      <td>2015-07-20</td>\n",
       "      <td>32440555</td>\n",
       "      <td>Frank</td>\n",
       "      <td>Kelly has a great room in a very central locat...</td>\n",
       "    </tr>\n",
       "    <tr>\n",
       "      <th>2</th>\n",
       "      <td>7202016</td>\n",
       "      <td>39820030</td>\n",
       "      <td>2015-07-26</td>\n",
       "      <td>37722850</td>\n",
       "      <td>Ian</td>\n",
       "      <td>Very spacious apartment, and in a great neighb...</td>\n",
       "    </tr>\n",
       "    <tr>\n",
       "      <th>3</th>\n",
       "      <td>7202016</td>\n",
       "      <td>40813543</td>\n",
       "      <td>2015-08-02</td>\n",
       "      <td>33671805</td>\n",
       "      <td>George</td>\n",
       "      <td>Close to Seattle Center and all it has to offe...</td>\n",
       "    </tr>\n",
       "    <tr>\n",
       "      <th>4</th>\n",
       "      <td>7202016</td>\n",
       "      <td>41986501</td>\n",
       "      <td>2015-08-10</td>\n",
       "      <td>34959538</td>\n",
       "      <td>Ming</td>\n",
       "      <td>Kelly was a great host and very accommodating ...</td>\n",
       "    </tr>\n",
       "  </tbody>\n",
       "</table>\n",
       "</div>"
      ],
      "text/plain": [
       "   listing_id        id        date  reviewer_id reviewer_name  \\\n",
       "0     7202016  38917982  2015-07-19     28943674        Bianca   \n",
       "1     7202016  39087409  2015-07-20     32440555         Frank   \n",
       "2     7202016  39820030  2015-07-26     37722850           Ian   \n",
       "3     7202016  40813543  2015-08-02     33671805        George   \n",
       "4     7202016  41986501  2015-08-10     34959538          Ming   \n",
       "\n",
       "                                            comments  \n",
       "0  Cute and cozy place. Perfect location to every...  \n",
       "1  Kelly has a great room in a very central locat...  \n",
       "2  Very spacious apartment, and in a great neighb...  \n",
       "3  Close to Seattle Center and all it has to offe...  \n",
       "4  Kelly was a great host and very accommodating ...  "
      ]
     },
     "execution_count": 6,
     "metadata": {},
     "output_type": "execute_result"
    }
   ],
   "source": [
    "#reviews \n",
    "df_reviews = pd.read_csv(r'C:\\Users\\DIGITRON\\Desktop\\DS_P1\\reviews.csv')\n",
    "df_reviews.head()"
   ]
  },
  {
   "cell_type": "markdown",
   "id": "8c30844a",
   "metadata": {},
   "source": [
    "### 2.1 Data Cleaning \n",
    "####  Calendar dataset"
   ]
  },
  {
   "cell_type": "markdown",
   "id": "7418dc12",
   "metadata": {},
   "source": [
    "Exploring:\n",
    "\n",
    "- Number of rows and columns\n",
    "- Missing values\n",
    "- Understand dataset with describe function"
   ]
  },
  {
   "cell_type": "code",
   "execution_count": 7,
   "id": "d59289c5",
   "metadata": {},
   "outputs": [
    {
     "data": {
      "text/plain": [
       "(1393570, 4)"
      ]
     },
     "execution_count": 7,
     "metadata": {},
     "output_type": "execute_result"
    }
   ],
   "source": [
    "# number of rows and columns\n",
    "df_calendar.shape "
   ]
  },
  {
   "cell_type": "code",
   "execution_count": 8,
   "id": "b88a6ce2",
   "metadata": {
    "scrolled": false
   },
   "outputs": [
    {
     "data": {
      "text/plain": [
       "listing_id         0\n",
       "date               0\n",
       "available          0\n",
       "price         459028\n",
       "dtype: int64"
      ]
     },
     "execution_count": 8,
     "metadata": {},
     "output_type": "execute_result"
    }
   ],
   "source": [
    "#number of missing rows\n",
    "df_calendar.isnull().sum()"
   ]
  },
  {
   "cell_type": "code",
   "execution_count": 9,
   "id": "4c77fcad",
   "metadata": {},
   "outputs": [
    {
     "name": "stdout",
     "output_type": "stream",
     "text": [
      "Percentage of null values in price column of calendar dataset: 0.32938998399793334\n"
     ]
    }
   ],
   "source": [
    "# finding porpotion of missing values in price column \n",
    "per_calendar = df_calendar['price'].isnull().sum()/df_calendar.shape[0]\n",
    "print('Percentage of null values in price column of calendar dataset:', per_calendar)"
   ]
  },
  {
   "cell_type": "code",
   "execution_count": 10,
   "id": "3fd5f0f0",
   "metadata": {
    "scrolled": true
   },
   "outputs": [
    {
     "data": {
      "text/html": [
       "<div>\n",
       "<style scoped>\n",
       "    .dataframe tbody tr th:only-of-type {\n",
       "        vertical-align: middle;\n",
       "    }\n",
       "\n",
       "    .dataframe tbody tr th {\n",
       "        vertical-align: top;\n",
       "    }\n",
       "\n",
       "    .dataframe thead th {\n",
       "        text-align: right;\n",
       "    }\n",
       "</style>\n",
       "<table border=\"1\" class=\"dataframe\">\n",
       "  <thead>\n",
       "    <tr style=\"text-align: right;\">\n",
       "      <th></th>\n",
       "      <th>listing_id</th>\n",
       "      <th>date</th>\n",
       "      <th>available</th>\n",
       "      <th>price</th>\n",
       "    </tr>\n",
       "  </thead>\n",
       "  <tbody>\n",
       "    <tr>\n",
       "      <th>count</th>\n",
       "      <td>1.393570e+06</td>\n",
       "      <td>1393570</td>\n",
       "      <td>1393570</td>\n",
       "      <td>934542</td>\n",
       "    </tr>\n",
       "    <tr>\n",
       "      <th>unique</th>\n",
       "      <td>NaN</td>\n",
       "      <td>365</td>\n",
       "      <td>2</td>\n",
       "      <td>669</td>\n",
       "    </tr>\n",
       "    <tr>\n",
       "      <th>top</th>\n",
       "      <td>NaN</td>\n",
       "      <td>2016-01-04</td>\n",
       "      <td>t</td>\n",
       "      <td>$150.00</td>\n",
       "    </tr>\n",
       "    <tr>\n",
       "      <th>freq</th>\n",
       "      <td>NaN</td>\n",
       "      <td>3818</td>\n",
       "      <td>934542</td>\n",
       "      <td>36646</td>\n",
       "    </tr>\n",
       "    <tr>\n",
       "      <th>mean</th>\n",
       "      <td>5.550111e+06</td>\n",
       "      <td>NaN</td>\n",
       "      <td>NaN</td>\n",
       "      <td>NaN</td>\n",
       "    </tr>\n",
       "    <tr>\n",
       "      <th>std</th>\n",
       "      <td>2.962274e+06</td>\n",
       "      <td>NaN</td>\n",
       "      <td>NaN</td>\n",
       "      <td>NaN</td>\n",
       "    </tr>\n",
       "    <tr>\n",
       "      <th>min</th>\n",
       "      <td>3.335000e+03</td>\n",
       "      <td>NaN</td>\n",
       "      <td>NaN</td>\n",
       "      <td>NaN</td>\n",
       "    </tr>\n",
       "    <tr>\n",
       "      <th>25%</th>\n",
       "      <td>3.258213e+06</td>\n",
       "      <td>NaN</td>\n",
       "      <td>NaN</td>\n",
       "      <td>NaN</td>\n",
       "    </tr>\n",
       "    <tr>\n",
       "      <th>50%</th>\n",
       "      <td>6.118244e+06</td>\n",
       "      <td>NaN</td>\n",
       "      <td>NaN</td>\n",
       "      <td>NaN</td>\n",
       "    </tr>\n",
       "    <tr>\n",
       "      <th>75%</th>\n",
       "      <td>8.035212e+06</td>\n",
       "      <td>NaN</td>\n",
       "      <td>NaN</td>\n",
       "      <td>NaN</td>\n",
       "    </tr>\n",
       "    <tr>\n",
       "      <th>max</th>\n",
       "      <td>1.034016e+07</td>\n",
       "      <td>NaN</td>\n",
       "      <td>NaN</td>\n",
       "      <td>NaN</td>\n",
       "    </tr>\n",
       "  </tbody>\n",
       "</table>\n",
       "</div>"
      ],
      "text/plain": [
       "          listing_id        date available    price\n",
       "count   1.393570e+06     1393570   1393570   934542\n",
       "unique           NaN         365         2      669\n",
       "top              NaN  2016-01-04         t  $150.00\n",
       "freq             NaN        3818    934542    36646\n",
       "mean    5.550111e+06         NaN       NaN      NaN\n",
       "std     2.962274e+06         NaN       NaN      NaN\n",
       "min     3.335000e+03         NaN       NaN      NaN\n",
       "25%     3.258213e+06         NaN       NaN      NaN\n",
       "50%     6.118244e+06         NaN       NaN      NaN\n",
       "75%     8.035212e+06         NaN       NaN      NaN\n",
       "max     1.034016e+07         NaN       NaN      NaN"
      ]
     },
     "execution_count": 10,
     "metadata": {},
     "output_type": "execute_result"
    }
   ],
   "source": [
    "# analysing the dataset\n",
    "df_calendar.describe(include='all')"
   ]
  },
  {
   "cell_type": "code",
   "execution_count": 11,
   "id": "0765fec5",
   "metadata": {
    "scrolled": true
   },
   "outputs": [
    {
     "data": {
      "text/plain": [
       "listing_id     int64\n",
       "date          object\n",
       "available     object\n",
       "price         object\n",
       "dtype: object"
      ]
     },
     "execution_count": 11,
     "metadata": {},
     "output_type": "execute_result"
    }
   ],
   "source": [
    "# datatypes of calendar dataset\n",
    "df_calendar.dtypes"
   ]
  },
  {
   "cell_type": "code",
   "execution_count": 12,
   "id": "66e8b795",
   "metadata": {},
   "outputs": [],
   "source": [
    "# removing $ and converting price to float\n",
    "df_calendar['price'] = df_calendar.price.str.replace('[$,]', '',regex=True).astype('float')"
   ]
  },
  {
   "cell_type": "code",
   "execution_count": 13,
   "id": "b431ec86",
   "metadata": {},
   "outputs": [],
   "source": [
    "# fixing boolean values in calendar dataset\n",
    "df_calendar['available'] = df_calendar['available']=='t'"
   ]
  },
  {
   "cell_type": "code",
   "execution_count": 14,
   "id": "ab5a1acf",
   "metadata": {},
   "outputs": [
    {
     "data": {
      "text/plain": [
       "listing_id    3818\n",
       "date           365\n",
       "available        2\n",
       "price          669\n",
       "dtype: int64"
      ]
     },
     "execution_count": 14,
     "metadata": {},
     "output_type": "execute_result"
    }
   ],
   "source": [
    "#unique values per column\n",
    "unique = df_calendar.nunique()\n",
    "unique"
   ]
  },
  {
   "cell_type": "code",
   "execution_count": 15,
   "id": "d9838ea5",
   "metadata": {
    "scrolled": false
   },
   "outputs": [
    {
     "data": {
      "text/plain": [
       "listing_id         0\n",
       "date               0\n",
       "available          0\n",
       "price         459028\n",
       "dtype: int64"
      ]
     },
     "execution_count": 15,
     "metadata": {},
     "output_type": "execute_result"
    }
   ],
   "source": [
    "#number of missing rows \n",
    "df_calendar.isnull().sum()"
   ]
  },
  {
   "cell_type": "code",
   "execution_count": 16,
   "id": "a458b0b1",
   "metadata": {
    "scrolled": true
   },
   "outputs": [
    {
     "data": {
      "text/html": [
       "<div>\n",
       "<style scoped>\n",
       "    .dataframe tbody tr th:only-of-type {\n",
       "        vertical-align: middle;\n",
       "    }\n",
       "\n",
       "    .dataframe tbody tr th {\n",
       "        vertical-align: top;\n",
       "    }\n",
       "\n",
       "    .dataframe thead th {\n",
       "        text-align: right;\n",
       "    }\n",
       "</style>\n",
       "<table border=\"1\" class=\"dataframe\">\n",
       "  <thead>\n",
       "    <tr style=\"text-align: right;\">\n",
       "      <th></th>\n",
       "      <th>listing_id</th>\n",
       "      <th>date</th>\n",
       "      <th>available</th>\n",
       "      <th>price</th>\n",
       "    </tr>\n",
       "  </thead>\n",
       "  <tbody>\n",
       "    <tr>\n",
       "      <th>0</th>\n",
       "      <td>241032</td>\n",
       "      <td>2016-01-04</td>\n",
       "      <td>True</td>\n",
       "      <td>85.0</td>\n",
       "    </tr>\n",
       "    <tr>\n",
       "      <th>1</th>\n",
       "      <td>241032</td>\n",
       "      <td>2016-01-05</td>\n",
       "      <td>True</td>\n",
       "      <td>85.0</td>\n",
       "    </tr>\n",
       "    <tr>\n",
       "      <th>2</th>\n",
       "      <td>241032</td>\n",
       "      <td>2016-01-06</td>\n",
       "      <td>False</td>\n",
       "      <td>0.0</td>\n",
       "    </tr>\n",
       "    <tr>\n",
       "      <th>3</th>\n",
       "      <td>241032</td>\n",
       "      <td>2016-01-07</td>\n",
       "      <td>False</td>\n",
       "      <td>0.0</td>\n",
       "    </tr>\n",
       "    <tr>\n",
       "      <th>4</th>\n",
       "      <td>241032</td>\n",
       "      <td>2016-01-08</td>\n",
       "      <td>False</td>\n",
       "      <td>0.0</td>\n",
       "    </tr>\n",
       "  </tbody>\n",
       "</table>\n",
       "</div>"
      ],
      "text/plain": [
       "   listing_id        date  available  price\n",
       "0      241032  2016-01-04       True   85.0\n",
       "1      241032  2016-01-05       True   85.0\n",
       "2      241032  2016-01-06      False    0.0\n",
       "3      241032  2016-01-07      False    0.0\n",
       "4      241032  2016-01-08      False    0.0"
      ]
     },
     "execution_count": 16,
     "metadata": {},
     "output_type": "execute_result"
    }
   ],
   "source": [
    "# Filling Nan values in price with 0\n",
    "df_calendar['price'].fillna(0,inplace=True)\n",
    "df_calendar.head()"
   ]
  },
  {
   "cell_type": "code",
   "execution_count": 17,
   "id": "c025076c",
   "metadata": {
    "scrolled": true
   },
   "outputs": [
    {
     "name": "stdout",
     "output_type": "stream",
     "text": [
      "The minimum date of the calendar dataset is:  2016-01-04\n",
      "The maximum date of the calendar dataset is:  2017-01-02\n"
     ]
    },
    {
     "data": {
      "text/plain": [
       "(None, None)"
      ]
     },
     "execution_count": 17,
     "metadata": {},
     "output_type": "execute_result"
    }
   ],
   "source": [
    "min = df_calendar['date'].min()\n",
    "max = df_calendar['date'].max()\n",
    "print('The minimum date of the calendar dataset is: ',min), print('The maximum date of the calendar dataset is: ',max)"
   ]
  },
  {
   "cell_type": "code",
   "execution_count": 18,
   "id": "1a66dc3d",
   "metadata": {
    "scrolled": false
   },
   "outputs": [],
   "source": [
    "#converting the calendar datatype\n",
    "df_calendar['date'] = pd.to_datetime(df_calendar['date'])\n",
    "df_calendar['date'] = pd.to_datetime(df_calendar['date'])"
   ]
  },
  {
   "cell_type": "code",
   "execution_count": 19,
   "id": "7b846ba5",
   "metadata": {},
   "outputs": [
    {
     "name": "stdout",
     "output_type": "stream",
     "text": [
      "<class 'pandas.core.frame.DataFrame'>\n",
      "RangeIndex: 1393570 entries, 0 to 1393569\n",
      "Data columns (total 4 columns):\n",
      " #   Column      Non-Null Count    Dtype         \n",
      "---  ------      --------------    -----         \n",
      " 0   listing_id  1393570 non-null  int64         \n",
      " 1   date        1393570 non-null  datetime64[ns]\n",
      " 2   available   1393570 non-null  bool          \n",
      " 3   price       1393570 non-null  float64       \n",
      "dtypes: bool(1), datetime64[ns](1), float64(1), int64(1)\n",
      "memory usage: 33.2 MB\n"
     ]
    }
   ],
   "source": [
    "df_calendar.info()"
   ]
  },
  {
   "cell_type": "code",
   "execution_count": 20,
   "id": "504131e9",
   "metadata": {},
   "outputs": [],
   "source": [
    "df_calendar['year'] = pd.DatetimeIndex(df_calendar['date']).year\n",
    "df_calendar['month'] = pd.DatetimeIndex(df_calendar['date']).month\n"
   ]
  },
  {
   "cell_type": "markdown",
   "id": "a8f03abb",
   "metadata": {},
   "source": [
    "####  Listing dataset"
   ]
  },
  {
   "cell_type": "code",
   "execution_count": 21,
   "id": "85819e8e",
   "metadata": {},
   "outputs": [
    {
     "data": {
      "text/plain": [
       "(3818, 92)"
      ]
     },
     "execution_count": 21,
     "metadata": {},
     "output_type": "execute_result"
    }
   ],
   "source": [
    "#number of rows and columns \n",
    "df_listings.shape"
   ]
  },
  {
   "cell_type": "code",
   "execution_count": 22,
   "id": "e12a3bd6",
   "metadata": {},
   "outputs": [
    {
     "data": {
      "text/plain": [
       "3818"
      ]
     },
     "execution_count": 22,
     "metadata": {},
     "output_type": "execute_result"
    }
   ],
   "source": [
    "df_listings.id.nunique()"
   ]
  },
  {
   "cell_type": "code",
   "execution_count": 23,
   "id": "343f9d24",
   "metadata": {},
   "outputs": [
    {
     "data": {
      "text/plain": [
       "id                                    0\n",
       "listing_url                           0\n",
       "scrape_id                             0\n",
       "last_scraped                          0\n",
       "name                                  0\n",
       "                                   ... \n",
       "cancellation_policy                   0\n",
       "require_guest_profile_picture         0\n",
       "require_guest_phone_verification      0\n",
       "calculated_host_listings_count        0\n",
       "reviews_per_month                   627\n",
       "Length: 92, dtype: int64"
      ]
     },
     "execution_count": 23,
     "metadata": {},
     "output_type": "execute_result"
    }
   ],
   "source": [
    "#null values\n",
    "df_listings.isnull().sum()"
   ]
  },
  {
   "cell_type": "code",
   "execution_count": 24,
   "id": "53d5e698",
   "metadata": {},
   "outputs": [
    {
     "data": {
      "text/html": [
       "<div>\n",
       "<style scoped>\n",
       "    .dataframe tbody tr th:only-of-type {\n",
       "        vertical-align: middle;\n",
       "    }\n",
       "\n",
       "    .dataframe tbody tr th {\n",
       "        vertical-align: top;\n",
       "    }\n",
       "\n",
       "    .dataframe thead th {\n",
       "        text-align: right;\n",
       "    }\n",
       "</style>\n",
       "<table border=\"1\" class=\"dataframe\">\n",
       "  <thead>\n",
       "    <tr style=\"text-align: right;\">\n",
       "      <th></th>\n",
       "      <th>id</th>\n",
       "      <th>scrape_id</th>\n",
       "      <th>host_id</th>\n",
       "      <th>host_listings_count</th>\n",
       "      <th>host_total_listings_count</th>\n",
       "      <th>latitude</th>\n",
       "      <th>longitude</th>\n",
       "      <th>accommodates</th>\n",
       "      <th>bathrooms</th>\n",
       "      <th>bedrooms</th>\n",
       "      <th>...</th>\n",
       "      <th>review_scores_rating</th>\n",
       "      <th>review_scores_accuracy</th>\n",
       "      <th>review_scores_cleanliness</th>\n",
       "      <th>review_scores_checkin</th>\n",
       "      <th>review_scores_communication</th>\n",
       "      <th>review_scores_location</th>\n",
       "      <th>review_scores_value</th>\n",
       "      <th>license</th>\n",
       "      <th>calculated_host_listings_count</th>\n",
       "      <th>reviews_per_month</th>\n",
       "    </tr>\n",
       "  </thead>\n",
       "  <tbody>\n",
       "    <tr>\n",
       "      <th>count</th>\n",
       "      <td>3.818000e+03</td>\n",
       "      <td>3.818000e+03</td>\n",
       "      <td>3.818000e+03</td>\n",
       "      <td>3816.000000</td>\n",
       "      <td>3816.000000</td>\n",
       "      <td>3818.000000</td>\n",
       "      <td>3818.000000</td>\n",
       "      <td>3818.000000</td>\n",
       "      <td>3802.000000</td>\n",
       "      <td>3812.000000</td>\n",
       "      <td>...</td>\n",
       "      <td>3171.000000</td>\n",
       "      <td>3160.000000</td>\n",
       "      <td>3165.000000</td>\n",
       "      <td>3160.000000</td>\n",
       "      <td>3167.000000</td>\n",
       "      <td>3163.000000</td>\n",
       "      <td>3162.000000</td>\n",
       "      <td>0.0</td>\n",
       "      <td>3818.000000</td>\n",
       "      <td>3191.000000</td>\n",
       "    </tr>\n",
       "    <tr>\n",
       "      <th>mean</th>\n",
       "      <td>5.550111e+06</td>\n",
       "      <td>2.016010e+13</td>\n",
       "      <td>1.578556e+07</td>\n",
       "      <td>7.157757</td>\n",
       "      <td>7.157757</td>\n",
       "      <td>47.628961</td>\n",
       "      <td>-122.333103</td>\n",
       "      <td>3.349398</td>\n",
       "      <td>1.259469</td>\n",
       "      <td>1.307712</td>\n",
       "      <td>...</td>\n",
       "      <td>94.539262</td>\n",
       "      <td>9.636392</td>\n",
       "      <td>9.556398</td>\n",
       "      <td>9.786709</td>\n",
       "      <td>9.809599</td>\n",
       "      <td>9.608916</td>\n",
       "      <td>9.452245</td>\n",
       "      <td>NaN</td>\n",
       "      <td>2.946307</td>\n",
       "      <td>2.078919</td>\n",
       "    </tr>\n",
       "    <tr>\n",
       "      <th>std</th>\n",
       "      <td>2.962660e+06</td>\n",
       "      <td>0.000000e+00</td>\n",
       "      <td>1.458382e+07</td>\n",
       "      <td>28.628149</td>\n",
       "      <td>28.628149</td>\n",
       "      <td>0.043052</td>\n",
       "      <td>0.031745</td>\n",
       "      <td>1.977599</td>\n",
       "      <td>0.590369</td>\n",
       "      <td>0.883395</td>\n",
       "      <td>...</td>\n",
       "      <td>6.606083</td>\n",
       "      <td>0.698031</td>\n",
       "      <td>0.797274</td>\n",
       "      <td>0.595499</td>\n",
       "      <td>0.568211</td>\n",
       "      <td>0.629053</td>\n",
       "      <td>0.750259</td>\n",
       "      <td>NaN</td>\n",
       "      <td>5.893029</td>\n",
       "      <td>1.822348</td>\n",
       "    </tr>\n",
       "    <tr>\n",
       "      <th>min</th>\n",
       "      <td>3.335000e+03</td>\n",
       "      <td>2.016010e+13</td>\n",
       "      <td>4.193000e+03</td>\n",
       "      <td>1.000000</td>\n",
       "      <td>1.000000</td>\n",
       "      <td>47.505088</td>\n",
       "      <td>-122.417219</td>\n",
       "      <td>1.000000</td>\n",
       "      <td>0.000000</td>\n",
       "      <td>0.000000</td>\n",
       "      <td>...</td>\n",
       "      <td>20.000000</td>\n",
       "      <td>2.000000</td>\n",
       "      <td>3.000000</td>\n",
       "      <td>2.000000</td>\n",
       "      <td>2.000000</td>\n",
       "      <td>4.000000</td>\n",
       "      <td>2.000000</td>\n",
       "      <td>NaN</td>\n",
       "      <td>1.000000</td>\n",
       "      <td>0.020000</td>\n",
       "    </tr>\n",
       "    <tr>\n",
       "      <th>25%</th>\n",
       "      <td>3.258256e+06</td>\n",
       "      <td>2.016010e+13</td>\n",
       "      <td>3.275204e+06</td>\n",
       "      <td>1.000000</td>\n",
       "      <td>1.000000</td>\n",
       "      <td>47.609418</td>\n",
       "      <td>-122.354321</td>\n",
       "      <td>2.000000</td>\n",
       "      <td>1.000000</td>\n",
       "      <td>1.000000</td>\n",
       "      <td>...</td>\n",
       "      <td>93.000000</td>\n",
       "      <td>9.000000</td>\n",
       "      <td>9.000000</td>\n",
       "      <td>10.000000</td>\n",
       "      <td>10.000000</td>\n",
       "      <td>9.000000</td>\n",
       "      <td>9.000000</td>\n",
       "      <td>NaN</td>\n",
       "      <td>1.000000</td>\n",
       "      <td>0.695000</td>\n",
       "    </tr>\n",
       "    <tr>\n",
       "      <th>50%</th>\n",
       "      <td>6.118244e+06</td>\n",
       "      <td>2.016010e+13</td>\n",
       "      <td>1.055814e+07</td>\n",
       "      <td>1.000000</td>\n",
       "      <td>1.000000</td>\n",
       "      <td>47.623601</td>\n",
       "      <td>-122.328874</td>\n",
       "      <td>3.000000</td>\n",
       "      <td>1.000000</td>\n",
       "      <td>1.000000</td>\n",
       "      <td>...</td>\n",
       "      <td>96.000000</td>\n",
       "      <td>10.000000</td>\n",
       "      <td>10.000000</td>\n",
       "      <td>10.000000</td>\n",
       "      <td>10.000000</td>\n",
       "      <td>10.000000</td>\n",
       "      <td>10.000000</td>\n",
       "      <td>NaN</td>\n",
       "      <td>1.000000</td>\n",
       "      <td>1.540000</td>\n",
       "    </tr>\n",
       "    <tr>\n",
       "      <th>75%</th>\n",
       "      <td>8.035127e+06</td>\n",
       "      <td>2.016010e+13</td>\n",
       "      <td>2.590309e+07</td>\n",
       "      <td>3.000000</td>\n",
       "      <td>3.000000</td>\n",
       "      <td>47.662694</td>\n",
       "      <td>-122.310800</td>\n",
       "      <td>4.000000</td>\n",
       "      <td>1.000000</td>\n",
       "      <td>2.000000</td>\n",
       "      <td>...</td>\n",
       "      <td>99.000000</td>\n",
       "      <td>10.000000</td>\n",
       "      <td>10.000000</td>\n",
       "      <td>10.000000</td>\n",
       "      <td>10.000000</td>\n",
       "      <td>10.000000</td>\n",
       "      <td>10.000000</td>\n",
       "      <td>NaN</td>\n",
       "      <td>2.000000</td>\n",
       "      <td>3.000000</td>\n",
       "    </tr>\n",
       "    <tr>\n",
       "      <th>max</th>\n",
       "      <td>1.034016e+07</td>\n",
       "      <td>2.016010e+13</td>\n",
       "      <td>5.320861e+07</td>\n",
       "      <td>502.000000</td>\n",
       "      <td>502.000000</td>\n",
       "      <td>47.733358</td>\n",
       "      <td>-122.240607</td>\n",
       "      <td>16.000000</td>\n",
       "      <td>8.000000</td>\n",
       "      <td>7.000000</td>\n",
       "      <td>...</td>\n",
       "      <td>100.000000</td>\n",
       "      <td>10.000000</td>\n",
       "      <td>10.000000</td>\n",
       "      <td>10.000000</td>\n",
       "      <td>10.000000</td>\n",
       "      <td>10.000000</td>\n",
       "      <td>10.000000</td>\n",
       "      <td>NaN</td>\n",
       "      <td>37.000000</td>\n",
       "      <td>12.150000</td>\n",
       "    </tr>\n",
       "  </tbody>\n",
       "</table>\n",
       "<p>8 rows × 30 columns</p>\n",
       "</div>"
      ],
      "text/plain": [
       "                 id     scrape_id       host_id  host_listings_count  \\\n",
       "count  3.818000e+03  3.818000e+03  3.818000e+03          3816.000000   \n",
       "mean   5.550111e+06  2.016010e+13  1.578556e+07             7.157757   \n",
       "std    2.962660e+06  0.000000e+00  1.458382e+07            28.628149   \n",
       "min    3.335000e+03  2.016010e+13  4.193000e+03             1.000000   \n",
       "25%    3.258256e+06  2.016010e+13  3.275204e+06             1.000000   \n",
       "50%    6.118244e+06  2.016010e+13  1.055814e+07             1.000000   \n",
       "75%    8.035127e+06  2.016010e+13  2.590309e+07             3.000000   \n",
       "max    1.034016e+07  2.016010e+13  5.320861e+07           502.000000   \n",
       "\n",
       "       host_total_listings_count     latitude    longitude  accommodates  \\\n",
       "count                3816.000000  3818.000000  3818.000000   3818.000000   \n",
       "mean                    7.157757    47.628961  -122.333103      3.349398   \n",
       "std                    28.628149     0.043052     0.031745      1.977599   \n",
       "min                     1.000000    47.505088  -122.417219      1.000000   \n",
       "25%                     1.000000    47.609418  -122.354321      2.000000   \n",
       "50%                     1.000000    47.623601  -122.328874      3.000000   \n",
       "75%                     3.000000    47.662694  -122.310800      4.000000   \n",
       "max                   502.000000    47.733358  -122.240607     16.000000   \n",
       "\n",
       "         bathrooms     bedrooms  ...  review_scores_rating  \\\n",
       "count  3802.000000  3812.000000  ...           3171.000000   \n",
       "mean      1.259469     1.307712  ...             94.539262   \n",
       "std       0.590369     0.883395  ...              6.606083   \n",
       "min       0.000000     0.000000  ...             20.000000   \n",
       "25%       1.000000     1.000000  ...             93.000000   \n",
       "50%       1.000000     1.000000  ...             96.000000   \n",
       "75%       1.000000     2.000000  ...             99.000000   \n",
       "max       8.000000     7.000000  ...            100.000000   \n",
       "\n",
       "       review_scores_accuracy  review_scores_cleanliness  \\\n",
       "count             3160.000000                3165.000000   \n",
       "mean                 9.636392                   9.556398   \n",
       "std                  0.698031                   0.797274   \n",
       "min                  2.000000                   3.000000   \n",
       "25%                  9.000000                   9.000000   \n",
       "50%                 10.000000                  10.000000   \n",
       "75%                 10.000000                  10.000000   \n",
       "max                 10.000000                  10.000000   \n",
       "\n",
       "       review_scores_checkin  review_scores_communication  \\\n",
       "count            3160.000000                  3167.000000   \n",
       "mean                9.786709                     9.809599   \n",
       "std                 0.595499                     0.568211   \n",
       "min                 2.000000                     2.000000   \n",
       "25%                10.000000                    10.000000   \n",
       "50%                10.000000                    10.000000   \n",
       "75%                10.000000                    10.000000   \n",
       "max                10.000000                    10.000000   \n",
       "\n",
       "       review_scores_location  review_scores_value  license  \\\n",
       "count             3163.000000          3162.000000      0.0   \n",
       "mean                 9.608916             9.452245      NaN   \n",
       "std                  0.629053             0.750259      NaN   \n",
       "min                  4.000000             2.000000      NaN   \n",
       "25%                  9.000000             9.000000      NaN   \n",
       "50%                 10.000000            10.000000      NaN   \n",
       "75%                 10.000000            10.000000      NaN   \n",
       "max                 10.000000            10.000000      NaN   \n",
       "\n",
       "       calculated_host_listings_count  reviews_per_month  \n",
       "count                     3818.000000        3191.000000  \n",
       "mean                         2.946307           2.078919  \n",
       "std                          5.893029           1.822348  \n",
       "min                          1.000000           0.020000  \n",
       "25%                          1.000000           0.695000  \n",
       "50%                          1.000000           1.540000  \n",
       "75%                          2.000000           3.000000  \n",
       "max                         37.000000          12.150000  \n",
       "\n",
       "[8 rows x 30 columns]"
      ]
     },
     "execution_count": 24,
     "metadata": {},
     "output_type": "execute_result"
    }
   ],
   "source": [
    "#analysing dataset\n",
    "df_listings.describe()"
   ]
  },
  {
   "cell_type": "code",
   "execution_count": 25,
   "id": "5fce259b",
   "metadata": {},
   "outputs": [
    {
     "name": "stdout",
     "output_type": "stream",
     "text": [
      "<class 'pandas.core.frame.DataFrame'>\n",
      "RangeIndex: 3818 entries, 0 to 3817\n",
      "Data columns (total 92 columns):\n",
      " #   Column                            Non-Null Count  Dtype  \n",
      "---  ------                            --------------  -----  \n",
      " 0   id                                3818 non-null   int64  \n",
      " 1   listing_url                       3818 non-null   object \n",
      " 2   scrape_id                         3818 non-null   float64\n",
      " 3   last_scraped                      3818 non-null   object \n",
      " 4   name                              3818 non-null   object \n",
      " 5   summary                           3641 non-null   object \n",
      " 6   space                             3249 non-null   object \n",
      " 7   description                       3818 non-null   object \n",
      " 8   experiences_offered               3818 non-null   object \n",
      " 9   neighborhood_overview             2786 non-null   object \n",
      " 10  notes                             2212 non-null   object \n",
      " 11  transit                           2884 non-null   object \n",
      " 12  thumbnail_url                     3498 non-null   object \n",
      " 13  medium_url                        3498 non-null   object \n",
      " 14  picture_url                       3818 non-null   object \n",
      " 15  xl_picture_url                    3498 non-null   object \n",
      " 16  host_id                           3818 non-null   int64  \n",
      " 17  host_url                          3818 non-null   object \n",
      " 18  host_name                         3816 non-null   object \n",
      " 19  host_since                        3816 non-null   object \n",
      " 20  host_location                     3810 non-null   object \n",
      " 21  host_about                        2959 non-null   object \n",
      " 22  host_response_time                3295 non-null   object \n",
      " 23  host_response_rate                3295 non-null   object \n",
      " 24  host_acceptance_rate              3045 non-null   object \n",
      " 25  host_is_superhost                 3816 non-null   object \n",
      " 26  host_thumbnail_url                3816 non-null   object \n",
      " 27  host_picture_url                  3816 non-null   object \n",
      " 28  host_neighbourhood                3518 non-null   object \n",
      " 29  host_listings_count               3816 non-null   float64\n",
      " 30  host_total_listings_count         3816 non-null   float64\n",
      " 31  host_verifications                3818 non-null   object \n",
      " 32  host_has_profile_pic              3816 non-null   object \n",
      " 33  host_identity_verified            3816 non-null   object \n",
      " 34  street                            3818 non-null   object \n",
      " 35  neighbourhood                     3402 non-null   object \n",
      " 36  neighbourhood_cleansed            3818 non-null   object \n",
      " 37  neighbourhood_group_cleansed      3818 non-null   object \n",
      " 38  city                              3818 non-null   object \n",
      " 39  state                             3818 non-null   object \n",
      " 40  zipcode                           3811 non-null   object \n",
      " 41  market                            3818 non-null   object \n",
      " 42  smart_location                    3818 non-null   object \n",
      " 43  country_code                      3818 non-null   object \n",
      " 44  country                           3818 non-null   object \n",
      " 45  latitude                          3818 non-null   float64\n",
      " 46  longitude                         3818 non-null   float64\n",
      " 47  is_location_exact                 3818 non-null   object \n",
      " 48  property_type                     3817 non-null   object \n",
      " 49  room_type                         3818 non-null   object \n",
      " 50  accommodates                      3818 non-null   int64  \n",
      " 51  bathrooms                         3802 non-null   float64\n",
      " 52  bedrooms                          3812 non-null   float64\n",
      " 53  beds                              3817 non-null   float64\n",
      " 54  bed_type                          3818 non-null   object \n",
      " 55  amenities                         3818 non-null   object \n",
      " 56  square_feet                       97 non-null     float64\n",
      " 57  price                             3818 non-null   object \n",
      " 58  weekly_price                      2009 non-null   object \n",
      " 59  monthly_price                     1517 non-null   object \n",
      " 60  security_deposit                  1866 non-null   object \n",
      " 61  cleaning_fee                      2788 non-null   object \n",
      " 62  guests_included                   3818 non-null   int64  \n",
      " 63  extra_people                      3818 non-null   object \n",
      " 64  minimum_nights                    3818 non-null   int64  \n",
      " 65  maximum_nights                    3818 non-null   int64  \n",
      " 66  calendar_updated                  3818 non-null   object \n",
      " 67  has_availability                  3818 non-null   object \n",
      " 68  availability_30                   3818 non-null   int64  \n",
      " 69  availability_60                   3818 non-null   int64  \n",
      " 70  availability_90                   3818 non-null   int64  \n",
      " 71  availability_365                  3818 non-null   int64  \n",
      " 72  calendar_last_scraped             3818 non-null   object \n",
      " 73  number_of_reviews                 3818 non-null   int64  \n",
      " 74  first_review                      3191 non-null   object \n",
      " 75  last_review                       3191 non-null   object \n",
      " 76  review_scores_rating              3171 non-null   float64\n",
      " 77  review_scores_accuracy            3160 non-null   float64\n",
      " 78  review_scores_cleanliness         3165 non-null   float64\n",
      " 79  review_scores_checkin             3160 non-null   float64\n",
      " 80  review_scores_communication       3167 non-null   float64\n",
      " 81  review_scores_location            3163 non-null   float64\n",
      " 82  review_scores_value               3162 non-null   float64\n",
      " 83  requires_license                  3818 non-null   object \n",
      " 84  license                           0 non-null      float64\n",
      " 85  jurisdiction_names                3818 non-null   object \n",
      " 86  instant_bookable                  3818 non-null   object \n",
      " 87  cancellation_policy               3818 non-null   object \n",
      " 88  require_guest_profile_picture     3818 non-null   object \n",
      " 89  require_guest_phone_verification  3818 non-null   object \n",
      " 90  calculated_host_listings_count    3818 non-null   int64  \n",
      " 91  reviews_per_month                 3191 non-null   float64\n",
      "dtypes: float64(18), int64(12), object(62)\n",
      "memory usage: 2.7+ MB\n"
     ]
    }
   ],
   "source": [
    "df_listings.info()"
   ]
  },
  {
   "cell_type": "code",
   "execution_count": 26,
   "id": "be3d481a",
   "metadata": {},
   "outputs": [
    {
     "data": {
      "text/html": [
       "<div>\n",
       "<style scoped>\n",
       "    .dataframe tbody tr th:only-of-type {\n",
       "        vertical-align: middle;\n",
       "    }\n",
       "\n",
       "    .dataframe tbody tr th {\n",
       "        vertical-align: top;\n",
       "    }\n",
       "\n",
       "    .dataframe thead th {\n",
       "        text-align: right;\n",
       "    }\n",
       "</style>\n",
       "<table border=\"1\" class=\"dataframe\">\n",
       "  <thead>\n",
       "    <tr style=\"text-align: right;\">\n",
       "      <th></th>\n",
       "      <th>id</th>\n",
       "      <th>scrape_id</th>\n",
       "      <th>last_scraped</th>\n",
       "      <th>name</th>\n",
       "      <th>summary</th>\n",
       "      <th>space</th>\n",
       "      <th>description</th>\n",
       "      <th>experiences_offered</th>\n",
       "      <th>neighborhood_overview</th>\n",
       "      <th>notes</th>\n",
       "      <th>...</th>\n",
       "      <th>review_scores_value</th>\n",
       "      <th>requires_license</th>\n",
       "      <th>license</th>\n",
       "      <th>jurisdiction_names</th>\n",
       "      <th>instant_bookable</th>\n",
       "      <th>cancellation_policy</th>\n",
       "      <th>require_guest_profile_picture</th>\n",
       "      <th>require_guest_phone_verification</th>\n",
       "      <th>calculated_host_listings_count</th>\n",
       "      <th>reviews_per_month</th>\n",
       "    </tr>\n",
       "  </thead>\n",
       "  <tbody>\n",
       "    <tr>\n",
       "      <th>0</th>\n",
       "      <td>241032</td>\n",
       "      <td>2.016010e+13</td>\n",
       "      <td>1/4/2016</td>\n",
       "      <td>Stylish Queen Anne Apartment</td>\n",
       "      <td>NaN</td>\n",
       "      <td>Make your self at home in this charming one-be...</td>\n",
       "      <td>Make your self at home in this charming one-be...</td>\n",
       "      <td>none</td>\n",
       "      <td>NaN</td>\n",
       "      <td>NaN</td>\n",
       "      <td>...</td>\n",
       "      <td>10.0</td>\n",
       "      <td>f</td>\n",
       "      <td>NaN</td>\n",
       "      <td>WASHINGTON</td>\n",
       "      <td>f</td>\n",
       "      <td>moderate</td>\n",
       "      <td>f</td>\n",
       "      <td>f</td>\n",
       "      <td>2</td>\n",
       "      <td>4.07</td>\n",
       "    </tr>\n",
       "    <tr>\n",
       "      <th>1</th>\n",
       "      <td>953595</td>\n",
       "      <td>2.016010e+13</td>\n",
       "      <td>1/4/2016</td>\n",
       "      <td>Bright &amp; Airy Queen Anne Apartment</td>\n",
       "      <td>Chemically sensitive? We've removed the irrita...</td>\n",
       "      <td>Beautiful, hypoallergenic apartment in an extr...</td>\n",
       "      <td>Chemically sensitive? We've removed the irrita...</td>\n",
       "      <td>none</td>\n",
       "      <td>Queen Anne is a wonderful, truly functional vi...</td>\n",
       "      <td>What's up with the free pillows?  Our home was...</td>\n",
       "      <td>...</td>\n",
       "      <td>10.0</td>\n",
       "      <td>f</td>\n",
       "      <td>NaN</td>\n",
       "      <td>WASHINGTON</td>\n",
       "      <td>f</td>\n",
       "      <td>strict</td>\n",
       "      <td>t</td>\n",
       "      <td>t</td>\n",
       "      <td>6</td>\n",
       "      <td>1.48</td>\n",
       "    </tr>\n",
       "    <tr>\n",
       "      <th>2</th>\n",
       "      <td>3308979</td>\n",
       "      <td>2.016010e+13</td>\n",
       "      <td>1/4/2016</td>\n",
       "      <td>New Modern House-Amazing water view</td>\n",
       "      <td>New modern house built in 2013.  Spectacular s...</td>\n",
       "      <td>Our house is modern, light and fresh with a wa...</td>\n",
       "      <td>New modern house built in 2013.  Spectacular s...</td>\n",
       "      <td>none</td>\n",
       "      <td>Upper Queen Anne is a charming neighborhood fu...</td>\n",
       "      <td>Our house is located just 5 short blocks to To...</td>\n",
       "      <td>...</td>\n",
       "      <td>10.0</td>\n",
       "      <td>f</td>\n",
       "      <td>NaN</td>\n",
       "      <td>WASHINGTON</td>\n",
       "      <td>f</td>\n",
       "      <td>strict</td>\n",
       "      <td>f</td>\n",
       "      <td>f</td>\n",
       "      <td>2</td>\n",
       "      <td>1.15</td>\n",
       "    </tr>\n",
       "    <tr>\n",
       "      <th>3</th>\n",
       "      <td>7421966</td>\n",
       "      <td>2.016010e+13</td>\n",
       "      <td>1/4/2016</td>\n",
       "      <td>Queen Anne Chateau</td>\n",
       "      <td>A charming apartment that sits atop Queen Anne...</td>\n",
       "      <td>NaN</td>\n",
       "      <td>A charming apartment that sits atop Queen Anne...</td>\n",
       "      <td>none</td>\n",
       "      <td>NaN</td>\n",
       "      <td>NaN</td>\n",
       "      <td>...</td>\n",
       "      <td>NaN</td>\n",
       "      <td>f</td>\n",
       "      <td>NaN</td>\n",
       "      <td>WASHINGTON</td>\n",
       "      <td>f</td>\n",
       "      <td>flexible</td>\n",
       "      <td>f</td>\n",
       "      <td>f</td>\n",
       "      <td>1</td>\n",
       "      <td>NaN</td>\n",
       "    </tr>\n",
       "    <tr>\n",
       "      <th>4</th>\n",
       "      <td>278830</td>\n",
       "      <td>2.016010e+13</td>\n",
       "      <td>1/4/2016</td>\n",
       "      <td>Charming craftsman 3 bdm house</td>\n",
       "      <td>Cozy family craftman house in beautiful neighb...</td>\n",
       "      <td>Cozy family craftman house in beautiful neighb...</td>\n",
       "      <td>Cozy family craftman house in beautiful neighb...</td>\n",
       "      <td>none</td>\n",
       "      <td>We are in the beautiful neighborhood of Queen ...</td>\n",
       "      <td>Belltown</td>\n",
       "      <td>...</td>\n",
       "      <td>9.0</td>\n",
       "      <td>f</td>\n",
       "      <td>NaN</td>\n",
       "      <td>WASHINGTON</td>\n",
       "      <td>f</td>\n",
       "      <td>strict</td>\n",
       "      <td>f</td>\n",
       "      <td>f</td>\n",
       "      <td>1</td>\n",
       "      <td>0.89</td>\n",
       "    </tr>\n",
       "  </tbody>\n",
       "</table>\n",
       "<p>5 rows × 84 columns</p>\n",
       "</div>"
      ],
      "text/plain": [
       "        id     scrape_id last_scraped                                 name  \\\n",
       "0   241032  2.016010e+13     1/4/2016         Stylish Queen Anne Apartment   \n",
       "1   953595  2.016010e+13     1/4/2016   Bright & Airy Queen Anne Apartment   \n",
       "2  3308979  2.016010e+13     1/4/2016  New Modern House-Amazing water view   \n",
       "3  7421966  2.016010e+13     1/4/2016                   Queen Anne Chateau   \n",
       "4   278830  2.016010e+13     1/4/2016       Charming craftsman 3 bdm house   \n",
       "\n",
       "                                             summary  \\\n",
       "0                                                NaN   \n",
       "1  Chemically sensitive? We've removed the irrita...   \n",
       "2  New modern house built in 2013.  Spectacular s...   \n",
       "3  A charming apartment that sits atop Queen Anne...   \n",
       "4  Cozy family craftman house in beautiful neighb...   \n",
       "\n",
       "                                               space  \\\n",
       "0  Make your self at home in this charming one-be...   \n",
       "1  Beautiful, hypoallergenic apartment in an extr...   \n",
       "2  Our house is modern, light and fresh with a wa...   \n",
       "3                                                NaN   \n",
       "4  Cozy family craftman house in beautiful neighb...   \n",
       "\n",
       "                                         description experiences_offered  \\\n",
       "0  Make your self at home in this charming one-be...                none   \n",
       "1  Chemically sensitive? We've removed the irrita...                none   \n",
       "2  New modern house built in 2013.  Spectacular s...                none   \n",
       "3  A charming apartment that sits atop Queen Anne...                none   \n",
       "4  Cozy family craftman house in beautiful neighb...                none   \n",
       "\n",
       "                               neighborhood_overview  \\\n",
       "0                                                NaN   \n",
       "1  Queen Anne is a wonderful, truly functional vi...   \n",
       "2  Upper Queen Anne is a charming neighborhood fu...   \n",
       "3                                                NaN   \n",
       "4  We are in the beautiful neighborhood of Queen ...   \n",
       "\n",
       "                                               notes  ... review_scores_value  \\\n",
       "0                                                NaN  ...                10.0   \n",
       "1  What's up with the free pillows?  Our home was...  ...                10.0   \n",
       "2  Our house is located just 5 short blocks to To...  ...                10.0   \n",
       "3                                                NaN  ...                 NaN   \n",
       "4                                          Belltown   ...                 9.0   \n",
       "\n",
       "   requires_license license jurisdiction_names instant_bookable  \\\n",
       "0                 f     NaN         WASHINGTON                f   \n",
       "1                 f     NaN         WASHINGTON                f   \n",
       "2                 f     NaN         WASHINGTON                f   \n",
       "3                 f     NaN         WASHINGTON                f   \n",
       "4                 f     NaN         WASHINGTON                f   \n",
       "\n",
       "  cancellation_policy require_guest_profile_picture  \\\n",
       "0            moderate                             f   \n",
       "1              strict                             t   \n",
       "2              strict                             f   \n",
       "3            flexible                             f   \n",
       "4              strict                             f   \n",
       "\n",
       "  require_guest_phone_verification calculated_host_listings_count  \\\n",
       "0                                f                              2   \n",
       "1                                t                              6   \n",
       "2                                f                              2   \n",
       "3                                f                              1   \n",
       "4                                f                              1   \n",
       "\n",
       "  reviews_per_month  \n",
       "0              4.07  \n",
       "1              1.48  \n",
       "2              1.15  \n",
       "3               NaN  \n",
       "4              0.89  \n",
       "\n",
       "[5 rows x 84 columns]"
      ]
     },
     "execution_count": 26,
     "metadata": {},
     "output_type": "execute_result"
    }
   ],
   "source": [
    "# deleting columns with url since are not part of interest for our analysis\n",
    "df_listings = df_listings.loc[:, ~df_listings.columns.str.endswith('url')]\n",
    "df_listings.head()"
   ]
  },
  {
   "cell_type": "code",
   "execution_count": 27,
   "id": "074ae7eb",
   "metadata": {},
   "outputs": [],
   "source": [
    "#removing $ and converting price to float\n",
    "df_listings['price'] = df_listings.price.str.replace('[$,]', '',regex=True).astype('float')"
   ]
  },
  {
   "cell_type": "code",
   "execution_count": 28,
   "id": "94cd6c04",
   "metadata": {},
   "outputs": [],
   "source": [
    "df_listings['weekly_price'] = df_listings.weekly_price.replace('[$,]', '',regex=True).astype('float')"
   ]
  },
  {
   "cell_type": "code",
   "execution_count": 29,
   "id": "6482347b",
   "metadata": {},
   "outputs": [
    {
     "data": {
      "text/plain": [
       "Index(['license'], dtype='object')"
      ]
     },
     "execution_count": 29,
     "metadata": {},
     "output_type": "execute_result"
    }
   ],
   "source": [
    "#identify columns that are all null\n",
    "df_listings.columns[df_listings.isnull().all()]"
   ]
  },
  {
   "cell_type": "code",
   "execution_count": 30,
   "id": "58badcec",
   "metadata": {},
   "outputs": [],
   "source": [
    "#license will all null values does not have an impact in our datset, drop license\n",
    "\n",
    "df_listings = df_listings.drop(['license'], axis=1) "
   ]
  },
  {
   "cell_type": "code",
   "execution_count": 31,
   "id": "b6498abd",
   "metadata": {},
   "outputs": [
    {
     "data": {
      "text/plain": [
       "Index(['square_feet', 'monthly_price', 'security_deposit'], dtype='object')"
      ]
     },
     "execution_count": 31,
     "metadata": {},
     "output_type": "execute_result"
    }
   ],
   "source": [
    "# finding columns that have more tha 50% of the values null \n",
    "p = df_listings.isnull().sum()/df_listings.shape[0]\n",
    "df_listings.columns[p>0.5]"
   ]
  },
  {
   "cell_type": "code",
   "execution_count": 32,
   "id": "4a817a4c",
   "metadata": {},
   "outputs": [],
   "source": [
    "# dropping those columns \n",
    "\n",
    "df_listings = df_listings.drop(['square_feet', 'monthly_price', 'security_deposit'], axis=1)"
   ]
  },
  {
   "cell_type": "code",
   "execution_count": 33,
   "id": "4a3591df",
   "metadata": {},
   "outputs": [
    {
     "data": {
      "text/plain": [
       "(3818, 80)"
      ]
     },
     "execution_count": 33,
     "metadata": {},
     "output_type": "execute_result"
    }
   ],
   "source": [
    "df_listings.shape"
   ]
  },
  {
   "cell_type": "code",
   "execution_count": 34,
   "id": "4eef28ab",
   "metadata": {
    "scrolled": true
   },
   "outputs": [
    {
     "data": {
      "text/plain": [
       "Index(['scrape_id', 'last_scraped', 'experiences_offered', 'market',\n",
       "       'country_code', 'country', 'has_availability', 'calendar_last_scraped',\n",
       "       'requires_license', 'jurisdiction_names'],\n",
       "      dtype='object')"
      ]
     },
     "execution_count": 34,
     "metadata": {},
     "output_type": "execute_result"
    }
   ],
   "source": [
    "#columns that have just one value. Some of them may be description of Airbnb profile while others are just a burden\n",
    "df_listings.columns[df_listings.nunique()==1]"
   ]
  },
  {
   "cell_type": "code",
   "execution_count": 35,
   "id": "5899bdd6",
   "metadata": {},
   "outputs": [],
   "source": [
    "# drop columns with one value \n",
    "df_listings = df_listings.drop(['scrape_id', 'last_scraped', 'experiences_offered', 'market',\n",
    "       'country_code', 'country', 'has_availability', 'calendar_last_scraped',\n",
    "       'requires_license', 'jurisdiction_names'], axis=1)"
   ]
  },
  {
   "cell_type": "code",
   "execution_count": 36,
   "id": "3b7012f8",
   "metadata": {},
   "outputs": [
    {
     "data": {
      "text/plain": [
       "(3818, 70)"
      ]
     },
     "execution_count": 36,
     "metadata": {},
     "output_type": "execute_result"
    }
   ],
   "source": [
    "df_listings.shape"
   ]
  },
  {
   "cell_type": "code",
   "execution_count": 37,
   "id": "c20502b2",
   "metadata": {},
   "outputs": [
    {
     "data": {
      "text/plain": [
       "Index(['id', 'name', 'summary', 'space', 'description',\n",
       "       'neighborhood_overview', 'notes', 'transit', 'host_id', 'host_name',\n",
       "       'host_since', 'host_location', 'host_about', 'host_response_time',\n",
       "       'host_response_rate', 'host_acceptance_rate', 'host_is_superhost',\n",
       "       'host_neighbourhood', 'host_listings_count',\n",
       "       'host_total_listings_count', 'host_verifications',\n",
       "       'host_has_profile_pic', 'host_identity_verified', 'street',\n",
       "       'neighbourhood', 'neighbourhood_cleansed',\n",
       "       'neighbourhood_group_cleansed', 'city', 'state', 'zipcode',\n",
       "       'smart_location', 'latitude', 'longitude', 'is_location_exact',\n",
       "       'property_type', 'room_type', 'accommodates', 'bathrooms', 'bedrooms',\n",
       "       'beds', 'bed_type', 'amenities', 'price', 'weekly_price',\n",
       "       'cleaning_fee', 'guests_included', 'extra_people', 'minimum_nights',\n",
       "       'maximum_nights', 'calendar_updated', 'availability_30',\n",
       "       'availability_60', 'availability_90', 'availability_365',\n",
       "       'number_of_reviews', 'first_review', 'last_review',\n",
       "       'review_scores_rating', 'review_scores_accuracy',\n",
       "       'review_scores_cleanliness', 'review_scores_checkin',\n",
       "       'review_scores_communication', 'review_scores_location',\n",
       "       'review_scores_value', 'instant_bookable', 'cancellation_policy',\n",
       "       'require_guest_profile_picture', 'require_guest_phone_verification',\n",
       "       'calculated_host_listings_count', 'reviews_per_month'],\n",
       "      dtype='object')"
      ]
     },
     "execution_count": 37,
     "metadata": {},
     "output_type": "execute_result"
    }
   ],
   "source": [
    "df_listings.columns"
   ]
  },
  {
   "cell_type": "code",
   "execution_count": 38,
   "id": "e82134fb",
   "metadata": {},
   "outputs": [
    {
     "data": {
      "text/plain": [
       "array(['Apartment', 'House', 'Cabin', 'Condominium', 'Camper/RV',\n",
       "       'Bungalow', 'Townhouse', 'Loft', 'Boat', 'Bed & Breakfast',\n",
       "       'Other', 'Dorm', 'Treehouse', 'Yurt', 'Chalet', 'Tent', nan],\n",
       "      dtype=object)"
      ]
     },
     "execution_count": 38,
     "metadata": {},
     "output_type": "execute_result"
    }
   ],
   "source": [
    "df_listings['property_type'].unique()\n"
   ]
  },
  {
   "cell_type": "code",
   "execution_count": 39,
   "id": "4d9a5b5c",
   "metadata": {
    "scrolled": true
   },
   "outputs": [
    {
     "data": {
      "text/html": [
       "<div>\n",
       "<style scoped>\n",
       "    .dataframe tbody tr th:only-of-type {\n",
       "        vertical-align: middle;\n",
       "    }\n",
       "\n",
       "    .dataframe tbody tr th {\n",
       "        vertical-align: top;\n",
       "    }\n",
       "\n",
       "    .dataframe thead th {\n",
       "        text-align: right;\n",
       "    }\n",
       "</style>\n",
       "<table border=\"1\" class=\"dataframe\">\n",
       "  <thead>\n",
       "    <tr style=\"text-align: right;\">\n",
       "      <th></th>\n",
       "      <th>price</th>\n",
       "      <th>weekly_price</th>\n",
       "    </tr>\n",
       "  </thead>\n",
       "  <tbody>\n",
       "    <tr>\n",
       "      <th>0</th>\n",
       "      <td>85.0</td>\n",
       "      <td>NaN</td>\n",
       "    </tr>\n",
       "    <tr>\n",
       "      <th>1</th>\n",
       "      <td>150.0</td>\n",
       "      <td>1000.0</td>\n",
       "    </tr>\n",
       "    <tr>\n",
       "      <th>2</th>\n",
       "      <td>975.0</td>\n",
       "      <td>NaN</td>\n",
       "    </tr>\n",
       "    <tr>\n",
       "      <th>3</th>\n",
       "      <td>100.0</td>\n",
       "      <td>650.0</td>\n",
       "    </tr>\n",
       "    <tr>\n",
       "      <th>4</th>\n",
       "      <td>450.0</td>\n",
       "      <td>NaN</td>\n",
       "    </tr>\n",
       "  </tbody>\n",
       "</table>\n",
       "</div>"
      ],
      "text/plain": [
       "   price  weekly_price\n",
       "0   85.0           NaN\n",
       "1  150.0        1000.0\n",
       "2  975.0           NaN\n",
       "3  100.0         650.0\n",
       "4  450.0           NaN"
      ]
     },
     "execution_count": 39,
     "metadata": {},
     "output_type": "execute_result"
    }
   ],
   "source": [
    "df_listings[['price','weekly_price']].head()"
   ]
  },
  {
   "cell_type": "code",
   "execution_count": 40,
   "id": "d46af686",
   "metadata": {},
   "outputs": [
    {
     "data": {
      "text/html": [
       "<div>\n",
       "<style scoped>\n",
       "    .dataframe tbody tr th:only-of-type {\n",
       "        vertical-align: middle;\n",
       "    }\n",
       "\n",
       "    .dataframe tbody tr th {\n",
       "        vertical-align: top;\n",
       "    }\n",
       "\n",
       "    .dataframe thead th {\n",
       "        text-align: right;\n",
       "    }\n",
       "</style>\n",
       "<table border=\"1\" class=\"dataframe\">\n",
       "  <thead>\n",
       "    <tr style=\"text-align: right;\">\n",
       "      <th></th>\n",
       "      <th>id</th>\n",
       "      <th>name</th>\n",
       "      <th>summary</th>\n",
       "      <th>space</th>\n",
       "      <th>description</th>\n",
       "      <th>neighborhood_overview</th>\n",
       "      <th>notes</th>\n",
       "      <th>transit</th>\n",
       "      <th>host_id</th>\n",
       "      <th>host_name</th>\n",
       "      <th>...</th>\n",
       "      <th>review_scores_checkin</th>\n",
       "      <th>review_scores_communication</th>\n",
       "      <th>review_scores_location</th>\n",
       "      <th>review_scores_value</th>\n",
       "      <th>instant_bookable</th>\n",
       "      <th>cancellation_policy</th>\n",
       "      <th>require_guest_profile_picture</th>\n",
       "      <th>require_guest_phone_verification</th>\n",
       "      <th>calculated_host_listings_count</th>\n",
       "      <th>reviews_per_month</th>\n",
       "    </tr>\n",
       "  </thead>\n",
       "  <tbody>\n",
       "    <tr>\n",
       "      <th>0</th>\n",
       "      <td>241032</td>\n",
       "      <td>Stylish Queen Anne Apartment</td>\n",
       "      <td>NaN</td>\n",
       "      <td>Make your self at home in this charming one-be...</td>\n",
       "      <td>Make your self at home in this charming one-be...</td>\n",
       "      <td>NaN</td>\n",
       "      <td>NaN</td>\n",
       "      <td>NaN</td>\n",
       "      <td>956883</td>\n",
       "      <td>Maija</td>\n",
       "      <td>...</td>\n",
       "      <td>10.0</td>\n",
       "      <td>10.0</td>\n",
       "      <td>9.0</td>\n",
       "      <td>10.0</td>\n",
       "      <td>f</td>\n",
       "      <td>moderate</td>\n",
       "      <td>f</td>\n",
       "      <td>f</td>\n",
       "      <td>2</td>\n",
       "      <td>4.07</td>\n",
       "    </tr>\n",
       "    <tr>\n",
       "      <th>1</th>\n",
       "      <td>953595</td>\n",
       "      <td>Bright &amp; Airy Queen Anne Apartment</td>\n",
       "      <td>Chemically sensitive? We've removed the irrita...</td>\n",
       "      <td>Beautiful, hypoallergenic apartment in an extr...</td>\n",
       "      <td>Chemically sensitive? We've removed the irrita...</td>\n",
       "      <td>Queen Anne is a wonderful, truly functional vi...</td>\n",
       "      <td>What's up with the free pillows?  Our home was...</td>\n",
       "      <td>Convenient bus stops are just down the block, ...</td>\n",
       "      <td>5177328</td>\n",
       "      <td>Andrea</td>\n",
       "      <td>...</td>\n",
       "      <td>10.0</td>\n",
       "      <td>10.0</td>\n",
       "      <td>10.0</td>\n",
       "      <td>10.0</td>\n",
       "      <td>f</td>\n",
       "      <td>strict</td>\n",
       "      <td>t</td>\n",
       "      <td>t</td>\n",
       "      <td>6</td>\n",
       "      <td>1.48</td>\n",
       "    </tr>\n",
       "    <tr>\n",
       "      <th>2</th>\n",
       "      <td>3308979</td>\n",
       "      <td>New Modern House-Amazing water view</td>\n",
       "      <td>New modern house built in 2013.  Spectacular s...</td>\n",
       "      <td>Our house is modern, light and fresh with a wa...</td>\n",
       "      <td>New modern house built in 2013.  Spectacular s...</td>\n",
       "      <td>Upper Queen Anne is a charming neighborhood fu...</td>\n",
       "      <td>Our house is located just 5 short blocks to To...</td>\n",
       "      <td>A bus stop is just 2 blocks away.   Easy bus a...</td>\n",
       "      <td>16708587</td>\n",
       "      <td>Jill</td>\n",
       "      <td>...</td>\n",
       "      <td>10.0</td>\n",
       "      <td>10.0</td>\n",
       "      <td>10.0</td>\n",
       "      <td>10.0</td>\n",
       "      <td>f</td>\n",
       "      <td>strict</td>\n",
       "      <td>f</td>\n",
       "      <td>f</td>\n",
       "      <td>2</td>\n",
       "      <td>1.15</td>\n",
       "    </tr>\n",
       "    <tr>\n",
       "      <th>3</th>\n",
       "      <td>7421966</td>\n",
       "      <td>Queen Anne Chateau</td>\n",
       "      <td>A charming apartment that sits atop Queen Anne...</td>\n",
       "      <td>NaN</td>\n",
       "      <td>A charming apartment that sits atop Queen Anne...</td>\n",
       "      <td>NaN</td>\n",
       "      <td>NaN</td>\n",
       "      <td>NaN</td>\n",
       "      <td>9851441</td>\n",
       "      <td>Emily</td>\n",
       "      <td>...</td>\n",
       "      <td>NaN</td>\n",
       "      <td>NaN</td>\n",
       "      <td>NaN</td>\n",
       "      <td>NaN</td>\n",
       "      <td>f</td>\n",
       "      <td>flexible</td>\n",
       "      <td>f</td>\n",
       "      <td>f</td>\n",
       "      <td>1</td>\n",
       "      <td>NaN</td>\n",
       "    </tr>\n",
       "    <tr>\n",
       "      <th>4</th>\n",
       "      <td>278830</td>\n",
       "      <td>Charming craftsman 3 bdm house</td>\n",
       "      <td>Cozy family craftman house in beautiful neighb...</td>\n",
       "      <td>Cozy family craftman house in beautiful neighb...</td>\n",
       "      <td>Cozy family craftman house in beautiful neighb...</td>\n",
       "      <td>We are in the beautiful neighborhood of Queen ...</td>\n",
       "      <td>Belltown</td>\n",
       "      <td>The nearest public transit bus (D Line) is 2 b...</td>\n",
       "      <td>1452570</td>\n",
       "      <td>Emily</td>\n",
       "      <td>...</td>\n",
       "      <td>10.0</td>\n",
       "      <td>10.0</td>\n",
       "      <td>9.0</td>\n",
       "      <td>9.0</td>\n",
       "      <td>f</td>\n",
       "      <td>strict</td>\n",
       "      <td>f</td>\n",
       "      <td>f</td>\n",
       "      <td>1</td>\n",
       "      <td>0.89</td>\n",
       "    </tr>\n",
       "    <tr>\n",
       "      <th>...</th>\n",
       "      <td>...</td>\n",
       "      <td>...</td>\n",
       "      <td>...</td>\n",
       "      <td>...</td>\n",
       "      <td>...</td>\n",
       "      <td>...</td>\n",
       "      <td>...</td>\n",
       "      <td>...</td>\n",
       "      <td>...</td>\n",
       "      <td>...</td>\n",
       "      <td>...</td>\n",
       "      <td>...</td>\n",
       "      <td>...</td>\n",
       "      <td>...</td>\n",
       "      <td>...</td>\n",
       "      <td>...</td>\n",
       "      <td>...</td>\n",
       "      <td>...</td>\n",
       "      <td>...</td>\n",
       "      <td>...</td>\n",
       "      <td>...</td>\n",
       "    </tr>\n",
       "    <tr>\n",
       "      <th>3813</th>\n",
       "      <td>8101950</td>\n",
       "      <td>3BR Mountain View House in Seattle</td>\n",
       "      <td>Our 3BR/2BA house boasts incredible views of t...</td>\n",
       "      <td>Our 3BR/2BA house bright, stylish, and wheelch...</td>\n",
       "      <td>Our 3BR/2BA house boasts incredible views of t...</td>\n",
       "      <td>We're located near lots of family fun. Woodlan...</td>\n",
       "      <td>NaN</td>\n",
       "      <td>NaN</td>\n",
       "      <td>31148752</td>\n",
       "      <td>Bo</td>\n",
       "      <td>...</td>\n",
       "      <td>4.0</td>\n",
       "      <td>8.0</td>\n",
       "      <td>10.0</td>\n",
       "      <td>8.0</td>\n",
       "      <td>f</td>\n",
       "      <td>strict</td>\n",
       "      <td>f</td>\n",
       "      <td>f</td>\n",
       "      <td>8</td>\n",
       "      <td>0.30</td>\n",
       "    </tr>\n",
       "    <tr>\n",
       "      <th>3814</th>\n",
       "      <td>8902327</td>\n",
       "      <td>Portage Bay View!-One Bedroom Apt</td>\n",
       "      <td>800 square foot 1 bedroom basement apartment w...</td>\n",
       "      <td>This space has a great view of Portage Bay wit...</td>\n",
       "      <td>800 square foot 1 bedroom basement apartment w...</td>\n",
       "      <td>The neighborhood is a quiet oasis that is clos...</td>\n",
       "      <td>This is a basement apartment in a newer reside...</td>\n",
       "      <td>Uber and Car2go are good options in Seattle. T...</td>\n",
       "      <td>46566046</td>\n",
       "      <td>Glen</td>\n",
       "      <td>...</td>\n",
       "      <td>10.0</td>\n",
       "      <td>10.0</td>\n",
       "      <td>10.0</td>\n",
       "      <td>10.0</td>\n",
       "      <td>f</td>\n",
       "      <td>moderate</td>\n",
       "      <td>f</td>\n",
       "      <td>f</td>\n",
       "      <td>1</td>\n",
       "      <td>2.00</td>\n",
       "    </tr>\n",
       "    <tr>\n",
       "      <th>3815</th>\n",
       "      <td>10267360</td>\n",
       "      <td>Private apartment view of Lake WA</td>\n",
       "      <td>Very comfortable lower unit. Quiet, charming m...</td>\n",
       "      <td>NaN</td>\n",
       "      <td>Very comfortable lower unit. Quiet, charming m...</td>\n",
       "      <td>NaN</td>\n",
       "      <td>NaN</td>\n",
       "      <td>NaN</td>\n",
       "      <td>52791370</td>\n",
       "      <td>Virginia</td>\n",
       "      <td>...</td>\n",
       "      <td>NaN</td>\n",
       "      <td>NaN</td>\n",
       "      <td>NaN</td>\n",
       "      <td>NaN</td>\n",
       "      <td>f</td>\n",
       "      <td>moderate</td>\n",
       "      <td>f</td>\n",
       "      <td>f</td>\n",
       "      <td>1</td>\n",
       "      <td>NaN</td>\n",
       "    </tr>\n",
       "    <tr>\n",
       "      <th>3816</th>\n",
       "      <td>9604740</td>\n",
       "      <td>Amazing View with Modern Comfort!</td>\n",
       "      <td>Cozy studio condo in the heart on Madison Park...</td>\n",
       "      <td>Fully furnished unit to accommodate most needs...</td>\n",
       "      <td>Cozy studio condo in the heart on Madison Park...</td>\n",
       "      <td>Madison Park offers a peaceful slow pace upsca...</td>\n",
       "      <td>NaN</td>\n",
       "      <td>Yes</td>\n",
       "      <td>25522052</td>\n",
       "      <td>Karen</td>\n",
       "      <td>...</td>\n",
       "      <td>NaN</td>\n",
       "      <td>NaN</td>\n",
       "      <td>NaN</td>\n",
       "      <td>NaN</td>\n",
       "      <td>f</td>\n",
       "      <td>moderate</td>\n",
       "      <td>f</td>\n",
       "      <td>f</td>\n",
       "      <td>1</td>\n",
       "      <td>NaN</td>\n",
       "    </tr>\n",
       "    <tr>\n",
       "      <th>3817</th>\n",
       "      <td>10208623</td>\n",
       "      <td>Large Lakefront Apartment</td>\n",
       "      <td>All hardwood floors, fireplace, 65\" TV with Xb...</td>\n",
       "      <td>NaN</td>\n",
       "      <td>All hardwood floors, fireplace, 65\" TV with Xb...</td>\n",
       "      <td>NaN</td>\n",
       "      <td>Also our puppy will be boarded away.</td>\n",
       "      <td>NaN</td>\n",
       "      <td>14703116</td>\n",
       "      <td>Gil</td>\n",
       "      <td>...</td>\n",
       "      <td>NaN</td>\n",
       "      <td>NaN</td>\n",
       "      <td>NaN</td>\n",
       "      <td>NaN</td>\n",
       "      <td>f</td>\n",
       "      <td>flexible</td>\n",
       "      <td>f</td>\n",
       "      <td>f</td>\n",
       "      <td>1</td>\n",
       "      <td>NaN</td>\n",
       "    </tr>\n",
       "  </tbody>\n",
       "</table>\n",
       "<p>3818 rows × 70 columns</p>\n",
       "</div>"
      ],
      "text/plain": [
       "            id                                 name  \\\n",
       "0       241032         Stylish Queen Anne Apartment   \n",
       "1       953595   Bright & Airy Queen Anne Apartment   \n",
       "2      3308979  New Modern House-Amazing water view   \n",
       "3      7421966                   Queen Anne Chateau   \n",
       "4       278830       Charming craftsman 3 bdm house   \n",
       "...        ...                                  ...   \n",
       "3813   8101950   3BR Mountain View House in Seattle   \n",
       "3814   8902327    Portage Bay View!-One Bedroom Apt   \n",
       "3815  10267360    Private apartment view of Lake WA   \n",
       "3816   9604740    Amazing View with Modern Comfort!   \n",
       "3817  10208623            Large Lakefront Apartment   \n",
       "\n",
       "                                                summary  \\\n",
       "0                                                   NaN   \n",
       "1     Chemically sensitive? We've removed the irrita...   \n",
       "2     New modern house built in 2013.  Spectacular s...   \n",
       "3     A charming apartment that sits atop Queen Anne...   \n",
       "4     Cozy family craftman house in beautiful neighb...   \n",
       "...                                                 ...   \n",
       "3813  Our 3BR/2BA house boasts incredible views of t...   \n",
       "3814  800 square foot 1 bedroom basement apartment w...   \n",
       "3815  Very comfortable lower unit. Quiet, charming m...   \n",
       "3816  Cozy studio condo in the heart on Madison Park...   \n",
       "3817  All hardwood floors, fireplace, 65\" TV with Xb...   \n",
       "\n",
       "                                                  space  \\\n",
       "0     Make your self at home in this charming one-be...   \n",
       "1     Beautiful, hypoallergenic apartment in an extr...   \n",
       "2     Our house is modern, light and fresh with a wa...   \n",
       "3                                                   NaN   \n",
       "4     Cozy family craftman house in beautiful neighb...   \n",
       "...                                                 ...   \n",
       "3813  Our 3BR/2BA house bright, stylish, and wheelch...   \n",
       "3814  This space has a great view of Portage Bay wit...   \n",
       "3815                                                NaN   \n",
       "3816  Fully furnished unit to accommodate most needs...   \n",
       "3817                                                NaN   \n",
       "\n",
       "                                            description  \\\n",
       "0     Make your self at home in this charming one-be...   \n",
       "1     Chemically sensitive? We've removed the irrita...   \n",
       "2     New modern house built in 2013.  Spectacular s...   \n",
       "3     A charming apartment that sits atop Queen Anne...   \n",
       "4     Cozy family craftman house in beautiful neighb...   \n",
       "...                                                 ...   \n",
       "3813  Our 3BR/2BA house boasts incredible views of t...   \n",
       "3814  800 square foot 1 bedroom basement apartment w...   \n",
       "3815  Very comfortable lower unit. Quiet, charming m...   \n",
       "3816  Cozy studio condo in the heart on Madison Park...   \n",
       "3817  All hardwood floors, fireplace, 65\" TV with Xb...   \n",
       "\n",
       "                                  neighborhood_overview  \\\n",
       "0                                                   NaN   \n",
       "1     Queen Anne is a wonderful, truly functional vi...   \n",
       "2     Upper Queen Anne is a charming neighborhood fu...   \n",
       "3                                                   NaN   \n",
       "4     We are in the beautiful neighborhood of Queen ...   \n",
       "...                                                 ...   \n",
       "3813  We're located near lots of family fun. Woodlan...   \n",
       "3814  The neighborhood is a quiet oasis that is clos...   \n",
       "3815                                                NaN   \n",
       "3816  Madison Park offers a peaceful slow pace upsca...   \n",
       "3817                                                NaN   \n",
       "\n",
       "                                                  notes  \\\n",
       "0                                                   NaN   \n",
       "1     What's up with the free pillows?  Our home was...   \n",
       "2     Our house is located just 5 short blocks to To...   \n",
       "3                                                   NaN   \n",
       "4                                             Belltown    \n",
       "...                                                 ...   \n",
       "3813                                                NaN   \n",
       "3814  This is a basement apartment in a newer reside...   \n",
       "3815                                                NaN   \n",
       "3816                                                NaN   \n",
       "3817               Also our puppy will be boarded away.   \n",
       "\n",
       "                                                transit   host_id host_name  \\\n",
       "0                                                   NaN    956883     Maija   \n",
       "1     Convenient bus stops are just down the block, ...   5177328    Andrea   \n",
       "2     A bus stop is just 2 blocks away.   Easy bus a...  16708587      Jill   \n",
       "3                                                   NaN   9851441     Emily   \n",
       "4     The nearest public transit bus (D Line) is 2 b...   1452570     Emily   \n",
       "...                                                 ...       ...       ...   \n",
       "3813                                                NaN  31148752        Bo   \n",
       "3814  Uber and Car2go are good options in Seattle. T...  46566046      Glen   \n",
       "3815                                                NaN  52791370  Virginia   \n",
       "3816                                                Yes  25522052     Karen   \n",
       "3817                                                NaN  14703116       Gil   \n",
       "\n",
       "      ... review_scores_checkin review_scores_communication  \\\n",
       "0     ...                  10.0                        10.0   \n",
       "1     ...                  10.0                        10.0   \n",
       "2     ...                  10.0                        10.0   \n",
       "3     ...                   NaN                         NaN   \n",
       "4     ...                  10.0                        10.0   \n",
       "...   ...                   ...                         ...   \n",
       "3813  ...                   4.0                         8.0   \n",
       "3814  ...                  10.0                        10.0   \n",
       "3815  ...                   NaN                         NaN   \n",
       "3816  ...                   NaN                         NaN   \n",
       "3817  ...                   NaN                         NaN   \n",
       "\n",
       "     review_scores_location review_scores_value instant_bookable  \\\n",
       "0                       9.0                10.0                f   \n",
       "1                      10.0                10.0                f   \n",
       "2                      10.0                10.0                f   \n",
       "3                       NaN                 NaN                f   \n",
       "4                       9.0                 9.0                f   \n",
       "...                     ...                 ...              ...   \n",
       "3813                   10.0                 8.0                f   \n",
       "3814                   10.0                10.0                f   \n",
       "3815                    NaN                 NaN                f   \n",
       "3816                    NaN                 NaN                f   \n",
       "3817                    NaN                 NaN                f   \n",
       "\n",
       "     cancellation_policy require_guest_profile_picture  \\\n",
       "0               moderate                             f   \n",
       "1                 strict                             t   \n",
       "2                 strict                             f   \n",
       "3               flexible                             f   \n",
       "4                 strict                             f   \n",
       "...                  ...                           ...   \n",
       "3813              strict                             f   \n",
       "3814            moderate                             f   \n",
       "3815            moderate                             f   \n",
       "3816            moderate                             f   \n",
       "3817            flexible                             f   \n",
       "\n",
       "     require_guest_phone_verification  calculated_host_listings_count  \\\n",
       "0                                   f                               2   \n",
       "1                                   t                               6   \n",
       "2                                   f                               2   \n",
       "3                                   f                               1   \n",
       "4                                   f                               1   \n",
       "...                               ...                             ...   \n",
       "3813                                f                               8   \n",
       "3814                                f                               1   \n",
       "3815                                f                               1   \n",
       "3816                                f                               1   \n",
       "3817                                f                               1   \n",
       "\n",
       "      reviews_per_month  \n",
       "0                  4.07  \n",
       "1                  1.48  \n",
       "2                  1.15  \n",
       "3                   NaN  \n",
       "4                  0.89  \n",
       "...                 ...  \n",
       "3813               0.30  \n",
       "3814               2.00  \n",
       "3815                NaN  \n",
       "3816                NaN  \n",
       "3817                NaN  \n",
       "\n",
       "[3818 rows x 70 columns]"
      ]
     },
     "execution_count": 40,
     "metadata": {},
     "output_type": "execute_result"
    }
   ],
   "source": [
    "df_listings"
   ]
  },
  {
   "cell_type": "code",
   "execution_count": 41,
   "id": "a0aa947d",
   "metadata": {
    "scrolled": false
   },
   "outputs": [
    {
     "data": {
      "text/plain": [
       "Index(['host_listings_count', 'host_total_listings_count', 'latitude',\n",
       "       'longitude', 'accommodates', 'bathrooms', 'bedrooms', 'beds', 'price',\n",
       "       'weekly_price', 'guests_included', 'minimum_nights', 'maximum_nights',\n",
       "       'availability_30', 'availability_60', 'availability_90',\n",
       "       'availability_365', 'number_of_reviews', 'review_scores_rating',\n",
       "       'review_scores_accuracy', 'review_scores_cleanliness',\n",
       "       'review_scores_checkin', 'review_scores_communication',\n",
       "       'review_scores_location', 'review_scores_value',\n",
       "       'calculated_host_listings_count', 'reviews_per_month'],\n",
       "      dtype='object')"
      ]
     },
     "execution_count": 41,
     "metadata": {},
     "output_type": "execute_result"
    }
   ],
   "source": [
    "num_vars = df_listings.select_dtypes(include=['float', 'int']).columns\n",
    "num_vars = num_vars[num_vars != ('id')]\n",
    "num_vars = num_vars[num_vars != ('host_id')]\n",
    "num_vars"
   ]
  },
  {
   "cell_type": "code",
   "execution_count": 42,
   "id": "3dc97edc",
   "metadata": {},
   "outputs": [
    {
     "data": {
      "text/html": [
       "<div>\n",
       "<style scoped>\n",
       "    .dataframe tbody tr th:only-of-type {\n",
       "        vertical-align: middle;\n",
       "    }\n",
       "\n",
       "    .dataframe tbody tr th {\n",
       "        vertical-align: top;\n",
       "    }\n",
       "\n",
       "    .dataframe thead th {\n",
       "        text-align: right;\n",
       "    }\n",
       "</style>\n",
       "<table border=\"1\" class=\"dataframe\">\n",
       "  <thead>\n",
       "    <tr style=\"text-align: right;\">\n",
       "      <th></th>\n",
       "      <th>id</th>\n",
       "      <th>name</th>\n",
       "      <th>summary</th>\n",
       "      <th>space</th>\n",
       "      <th>description</th>\n",
       "      <th>neighborhood_overview</th>\n",
       "      <th>notes</th>\n",
       "      <th>transit</th>\n",
       "      <th>host_id</th>\n",
       "      <th>host_name</th>\n",
       "      <th>...</th>\n",
       "      <th>review_scores_checkin</th>\n",
       "      <th>review_scores_communication</th>\n",
       "      <th>review_scores_location</th>\n",
       "      <th>review_scores_value</th>\n",
       "      <th>instant_bookable</th>\n",
       "      <th>cancellation_policy</th>\n",
       "      <th>require_guest_profile_picture</th>\n",
       "      <th>require_guest_phone_verification</th>\n",
       "      <th>calculated_host_listings_count</th>\n",
       "      <th>reviews_per_month</th>\n",
       "    </tr>\n",
       "  </thead>\n",
       "  <tbody>\n",
       "    <tr>\n",
       "      <th>0</th>\n",
       "      <td>241032</td>\n",
       "      <td>Stylish Queen Anne Apartment</td>\n",
       "      <td>NaN</td>\n",
       "      <td>Make your self at home in this charming one-be...</td>\n",
       "      <td>Make your self at home in this charming one-be...</td>\n",
       "      <td>NaN</td>\n",
       "      <td>NaN</td>\n",
       "      <td>NaN</td>\n",
       "      <td>956883</td>\n",
       "      <td>Maija</td>\n",
       "      <td>...</td>\n",
       "      <td>10.000000</td>\n",
       "      <td>10.000000</td>\n",
       "      <td>9.000000</td>\n",
       "      <td>10.000000</td>\n",
       "      <td>f</td>\n",
       "      <td>moderate</td>\n",
       "      <td>f</td>\n",
       "      <td>f</td>\n",
       "      <td>2</td>\n",
       "      <td>4.070000</td>\n",
       "    </tr>\n",
       "    <tr>\n",
       "      <th>1</th>\n",
       "      <td>953595</td>\n",
       "      <td>Bright &amp; Airy Queen Anne Apartment</td>\n",
       "      <td>Chemically sensitive? We've removed the irrita...</td>\n",
       "      <td>Beautiful, hypoallergenic apartment in an extr...</td>\n",
       "      <td>Chemically sensitive? We've removed the irrita...</td>\n",
       "      <td>Queen Anne is a wonderful, truly functional vi...</td>\n",
       "      <td>What's up with the free pillows?  Our home was...</td>\n",
       "      <td>Convenient bus stops are just down the block, ...</td>\n",
       "      <td>5177328</td>\n",
       "      <td>Andrea</td>\n",
       "      <td>...</td>\n",
       "      <td>10.000000</td>\n",
       "      <td>10.000000</td>\n",
       "      <td>10.000000</td>\n",
       "      <td>10.000000</td>\n",
       "      <td>f</td>\n",
       "      <td>strict</td>\n",
       "      <td>t</td>\n",
       "      <td>t</td>\n",
       "      <td>6</td>\n",
       "      <td>1.480000</td>\n",
       "    </tr>\n",
       "    <tr>\n",
       "      <th>2</th>\n",
       "      <td>3308979</td>\n",
       "      <td>New Modern House-Amazing water view</td>\n",
       "      <td>New modern house built in 2013.  Spectacular s...</td>\n",
       "      <td>Our house is modern, light and fresh with a wa...</td>\n",
       "      <td>New modern house built in 2013.  Spectacular s...</td>\n",
       "      <td>Upper Queen Anne is a charming neighborhood fu...</td>\n",
       "      <td>Our house is located just 5 short blocks to To...</td>\n",
       "      <td>A bus stop is just 2 blocks away.   Easy bus a...</td>\n",
       "      <td>16708587</td>\n",
       "      <td>Jill</td>\n",
       "      <td>...</td>\n",
       "      <td>10.000000</td>\n",
       "      <td>10.000000</td>\n",
       "      <td>10.000000</td>\n",
       "      <td>10.000000</td>\n",
       "      <td>f</td>\n",
       "      <td>strict</td>\n",
       "      <td>f</td>\n",
       "      <td>f</td>\n",
       "      <td>2</td>\n",
       "      <td>1.150000</td>\n",
       "    </tr>\n",
       "    <tr>\n",
       "      <th>3</th>\n",
       "      <td>7421966</td>\n",
       "      <td>Queen Anne Chateau</td>\n",
       "      <td>A charming apartment that sits atop Queen Anne...</td>\n",
       "      <td>NaN</td>\n",
       "      <td>A charming apartment that sits atop Queen Anne...</td>\n",
       "      <td>NaN</td>\n",
       "      <td>NaN</td>\n",
       "      <td>NaN</td>\n",
       "      <td>9851441</td>\n",
       "      <td>Emily</td>\n",
       "      <td>...</td>\n",
       "      <td>9.786709</td>\n",
       "      <td>9.809599</td>\n",
       "      <td>9.608916</td>\n",
       "      <td>9.452245</td>\n",
       "      <td>f</td>\n",
       "      <td>flexible</td>\n",
       "      <td>f</td>\n",
       "      <td>f</td>\n",
       "      <td>1</td>\n",
       "      <td>2.078919</td>\n",
       "    </tr>\n",
       "    <tr>\n",
       "      <th>4</th>\n",
       "      <td>278830</td>\n",
       "      <td>Charming craftsman 3 bdm house</td>\n",
       "      <td>Cozy family craftman house in beautiful neighb...</td>\n",
       "      <td>Cozy family craftman house in beautiful neighb...</td>\n",
       "      <td>Cozy family craftman house in beautiful neighb...</td>\n",
       "      <td>We are in the beautiful neighborhood of Queen ...</td>\n",
       "      <td>Belltown</td>\n",
       "      <td>The nearest public transit bus (D Line) is 2 b...</td>\n",
       "      <td>1452570</td>\n",
       "      <td>Emily</td>\n",
       "      <td>...</td>\n",
       "      <td>10.000000</td>\n",
       "      <td>10.000000</td>\n",
       "      <td>9.000000</td>\n",
       "      <td>9.000000</td>\n",
       "      <td>f</td>\n",
       "      <td>strict</td>\n",
       "      <td>f</td>\n",
       "      <td>f</td>\n",
       "      <td>1</td>\n",
       "      <td>0.890000</td>\n",
       "    </tr>\n",
       "    <tr>\n",
       "      <th>...</th>\n",
       "      <td>...</td>\n",
       "      <td>...</td>\n",
       "      <td>...</td>\n",
       "      <td>...</td>\n",
       "      <td>...</td>\n",
       "      <td>...</td>\n",
       "      <td>...</td>\n",
       "      <td>...</td>\n",
       "      <td>...</td>\n",
       "      <td>...</td>\n",
       "      <td>...</td>\n",
       "      <td>...</td>\n",
       "      <td>...</td>\n",
       "      <td>...</td>\n",
       "      <td>...</td>\n",
       "      <td>...</td>\n",
       "      <td>...</td>\n",
       "      <td>...</td>\n",
       "      <td>...</td>\n",
       "      <td>...</td>\n",
       "      <td>...</td>\n",
       "    </tr>\n",
       "    <tr>\n",
       "      <th>3813</th>\n",
       "      <td>8101950</td>\n",
       "      <td>3BR Mountain View House in Seattle</td>\n",
       "      <td>Our 3BR/2BA house boasts incredible views of t...</td>\n",
       "      <td>Our 3BR/2BA house bright, stylish, and wheelch...</td>\n",
       "      <td>Our 3BR/2BA house boasts incredible views of t...</td>\n",
       "      <td>We're located near lots of family fun. Woodlan...</td>\n",
       "      <td>NaN</td>\n",
       "      <td>NaN</td>\n",
       "      <td>31148752</td>\n",
       "      <td>Bo</td>\n",
       "      <td>...</td>\n",
       "      <td>4.000000</td>\n",
       "      <td>8.000000</td>\n",
       "      <td>10.000000</td>\n",
       "      <td>8.000000</td>\n",
       "      <td>f</td>\n",
       "      <td>strict</td>\n",
       "      <td>f</td>\n",
       "      <td>f</td>\n",
       "      <td>8</td>\n",
       "      <td>0.300000</td>\n",
       "    </tr>\n",
       "    <tr>\n",
       "      <th>3814</th>\n",
       "      <td>8902327</td>\n",
       "      <td>Portage Bay View!-One Bedroom Apt</td>\n",
       "      <td>800 square foot 1 bedroom basement apartment w...</td>\n",
       "      <td>This space has a great view of Portage Bay wit...</td>\n",
       "      <td>800 square foot 1 bedroom basement apartment w...</td>\n",
       "      <td>The neighborhood is a quiet oasis that is clos...</td>\n",
       "      <td>This is a basement apartment in a newer reside...</td>\n",
       "      <td>Uber and Car2go are good options in Seattle. T...</td>\n",
       "      <td>46566046</td>\n",
       "      <td>Glen</td>\n",
       "      <td>...</td>\n",
       "      <td>10.000000</td>\n",
       "      <td>10.000000</td>\n",
       "      <td>10.000000</td>\n",
       "      <td>10.000000</td>\n",
       "      <td>f</td>\n",
       "      <td>moderate</td>\n",
       "      <td>f</td>\n",
       "      <td>f</td>\n",
       "      <td>1</td>\n",
       "      <td>2.000000</td>\n",
       "    </tr>\n",
       "    <tr>\n",
       "      <th>3815</th>\n",
       "      <td>10267360</td>\n",
       "      <td>Private apartment view of Lake WA</td>\n",
       "      <td>Very comfortable lower unit. Quiet, charming m...</td>\n",
       "      <td>NaN</td>\n",
       "      <td>Very comfortable lower unit. Quiet, charming m...</td>\n",
       "      <td>NaN</td>\n",
       "      <td>NaN</td>\n",
       "      <td>NaN</td>\n",
       "      <td>52791370</td>\n",
       "      <td>Virginia</td>\n",
       "      <td>...</td>\n",
       "      <td>9.786709</td>\n",
       "      <td>9.809599</td>\n",
       "      <td>9.608916</td>\n",
       "      <td>9.452245</td>\n",
       "      <td>f</td>\n",
       "      <td>moderate</td>\n",
       "      <td>f</td>\n",
       "      <td>f</td>\n",
       "      <td>1</td>\n",
       "      <td>2.078919</td>\n",
       "    </tr>\n",
       "    <tr>\n",
       "      <th>3816</th>\n",
       "      <td>9604740</td>\n",
       "      <td>Amazing View with Modern Comfort!</td>\n",
       "      <td>Cozy studio condo in the heart on Madison Park...</td>\n",
       "      <td>Fully furnished unit to accommodate most needs...</td>\n",
       "      <td>Cozy studio condo in the heart on Madison Park...</td>\n",
       "      <td>Madison Park offers a peaceful slow pace upsca...</td>\n",
       "      <td>NaN</td>\n",
       "      <td>Yes</td>\n",
       "      <td>25522052</td>\n",
       "      <td>Karen</td>\n",
       "      <td>...</td>\n",
       "      <td>9.786709</td>\n",
       "      <td>9.809599</td>\n",
       "      <td>9.608916</td>\n",
       "      <td>9.452245</td>\n",
       "      <td>f</td>\n",
       "      <td>moderate</td>\n",
       "      <td>f</td>\n",
       "      <td>f</td>\n",
       "      <td>1</td>\n",
       "      <td>2.078919</td>\n",
       "    </tr>\n",
       "    <tr>\n",
       "      <th>3817</th>\n",
       "      <td>10208623</td>\n",
       "      <td>Large Lakefront Apartment</td>\n",
       "      <td>All hardwood floors, fireplace, 65\" TV with Xb...</td>\n",
       "      <td>NaN</td>\n",
       "      <td>All hardwood floors, fireplace, 65\" TV with Xb...</td>\n",
       "      <td>NaN</td>\n",
       "      <td>Also our puppy will be boarded away.</td>\n",
       "      <td>NaN</td>\n",
       "      <td>14703116</td>\n",
       "      <td>Gil</td>\n",
       "      <td>...</td>\n",
       "      <td>9.786709</td>\n",
       "      <td>9.809599</td>\n",
       "      <td>9.608916</td>\n",
       "      <td>9.452245</td>\n",
       "      <td>f</td>\n",
       "      <td>flexible</td>\n",
       "      <td>f</td>\n",
       "      <td>f</td>\n",
       "      <td>1</td>\n",
       "      <td>2.078919</td>\n",
       "    </tr>\n",
       "  </tbody>\n",
       "</table>\n",
       "<p>3818 rows × 70 columns</p>\n",
       "</div>"
      ],
      "text/plain": [
       "            id                                 name  \\\n",
       "0       241032         Stylish Queen Anne Apartment   \n",
       "1       953595   Bright & Airy Queen Anne Apartment   \n",
       "2      3308979  New Modern House-Amazing water view   \n",
       "3      7421966                   Queen Anne Chateau   \n",
       "4       278830       Charming craftsman 3 bdm house   \n",
       "...        ...                                  ...   \n",
       "3813   8101950   3BR Mountain View House in Seattle   \n",
       "3814   8902327    Portage Bay View!-One Bedroom Apt   \n",
       "3815  10267360    Private apartment view of Lake WA   \n",
       "3816   9604740    Amazing View with Modern Comfort!   \n",
       "3817  10208623            Large Lakefront Apartment   \n",
       "\n",
       "                                                summary  \\\n",
       "0                                                   NaN   \n",
       "1     Chemically sensitive? We've removed the irrita...   \n",
       "2     New modern house built in 2013.  Spectacular s...   \n",
       "3     A charming apartment that sits atop Queen Anne...   \n",
       "4     Cozy family craftman house in beautiful neighb...   \n",
       "...                                                 ...   \n",
       "3813  Our 3BR/2BA house boasts incredible views of t...   \n",
       "3814  800 square foot 1 bedroom basement apartment w...   \n",
       "3815  Very comfortable lower unit. Quiet, charming m...   \n",
       "3816  Cozy studio condo in the heart on Madison Park...   \n",
       "3817  All hardwood floors, fireplace, 65\" TV with Xb...   \n",
       "\n",
       "                                                  space  \\\n",
       "0     Make your self at home in this charming one-be...   \n",
       "1     Beautiful, hypoallergenic apartment in an extr...   \n",
       "2     Our house is modern, light and fresh with a wa...   \n",
       "3                                                   NaN   \n",
       "4     Cozy family craftman house in beautiful neighb...   \n",
       "...                                                 ...   \n",
       "3813  Our 3BR/2BA house bright, stylish, and wheelch...   \n",
       "3814  This space has a great view of Portage Bay wit...   \n",
       "3815                                                NaN   \n",
       "3816  Fully furnished unit to accommodate most needs...   \n",
       "3817                                                NaN   \n",
       "\n",
       "                                            description  \\\n",
       "0     Make your self at home in this charming one-be...   \n",
       "1     Chemically sensitive? We've removed the irrita...   \n",
       "2     New modern house built in 2013.  Spectacular s...   \n",
       "3     A charming apartment that sits atop Queen Anne...   \n",
       "4     Cozy family craftman house in beautiful neighb...   \n",
       "...                                                 ...   \n",
       "3813  Our 3BR/2BA house boasts incredible views of t...   \n",
       "3814  800 square foot 1 bedroom basement apartment w...   \n",
       "3815  Very comfortable lower unit. Quiet, charming m...   \n",
       "3816  Cozy studio condo in the heart on Madison Park...   \n",
       "3817  All hardwood floors, fireplace, 65\" TV with Xb...   \n",
       "\n",
       "                                  neighborhood_overview  \\\n",
       "0                                                   NaN   \n",
       "1     Queen Anne is a wonderful, truly functional vi...   \n",
       "2     Upper Queen Anne is a charming neighborhood fu...   \n",
       "3                                                   NaN   \n",
       "4     We are in the beautiful neighborhood of Queen ...   \n",
       "...                                                 ...   \n",
       "3813  We're located near lots of family fun. Woodlan...   \n",
       "3814  The neighborhood is a quiet oasis that is clos...   \n",
       "3815                                                NaN   \n",
       "3816  Madison Park offers a peaceful slow pace upsca...   \n",
       "3817                                                NaN   \n",
       "\n",
       "                                                  notes  \\\n",
       "0                                                   NaN   \n",
       "1     What's up with the free pillows?  Our home was...   \n",
       "2     Our house is located just 5 short blocks to To...   \n",
       "3                                                   NaN   \n",
       "4                                             Belltown    \n",
       "...                                                 ...   \n",
       "3813                                                NaN   \n",
       "3814  This is a basement apartment in a newer reside...   \n",
       "3815                                                NaN   \n",
       "3816                                                NaN   \n",
       "3817               Also our puppy will be boarded away.   \n",
       "\n",
       "                                                transit   host_id host_name  \\\n",
       "0                                                   NaN    956883     Maija   \n",
       "1     Convenient bus stops are just down the block, ...   5177328    Andrea   \n",
       "2     A bus stop is just 2 blocks away.   Easy bus a...  16708587      Jill   \n",
       "3                                                   NaN   9851441     Emily   \n",
       "4     The nearest public transit bus (D Line) is 2 b...   1452570     Emily   \n",
       "...                                                 ...       ...       ...   \n",
       "3813                                                NaN  31148752        Bo   \n",
       "3814  Uber and Car2go are good options in Seattle. T...  46566046      Glen   \n",
       "3815                                                NaN  52791370  Virginia   \n",
       "3816                                                Yes  25522052     Karen   \n",
       "3817                                                NaN  14703116       Gil   \n",
       "\n",
       "      ... review_scores_checkin review_scores_communication  \\\n",
       "0     ...             10.000000                   10.000000   \n",
       "1     ...             10.000000                   10.000000   \n",
       "2     ...             10.000000                   10.000000   \n",
       "3     ...              9.786709                    9.809599   \n",
       "4     ...             10.000000                   10.000000   \n",
       "...   ...                   ...                         ...   \n",
       "3813  ...              4.000000                    8.000000   \n",
       "3814  ...             10.000000                   10.000000   \n",
       "3815  ...              9.786709                    9.809599   \n",
       "3816  ...              9.786709                    9.809599   \n",
       "3817  ...              9.786709                    9.809599   \n",
       "\n",
       "     review_scores_location review_scores_value instant_bookable  \\\n",
       "0                  9.000000           10.000000                f   \n",
       "1                 10.000000           10.000000                f   \n",
       "2                 10.000000           10.000000                f   \n",
       "3                  9.608916            9.452245                f   \n",
       "4                  9.000000            9.000000                f   \n",
       "...                     ...                 ...              ...   \n",
       "3813              10.000000            8.000000                f   \n",
       "3814              10.000000           10.000000                f   \n",
       "3815               9.608916            9.452245                f   \n",
       "3816               9.608916            9.452245                f   \n",
       "3817               9.608916            9.452245                f   \n",
       "\n",
       "     cancellation_policy require_guest_profile_picture  \\\n",
       "0               moderate                             f   \n",
       "1                 strict                             t   \n",
       "2                 strict                             f   \n",
       "3               flexible                             f   \n",
       "4                 strict                             f   \n",
       "...                  ...                           ...   \n",
       "3813              strict                             f   \n",
       "3814            moderate                             f   \n",
       "3815            moderate                             f   \n",
       "3816            moderate                             f   \n",
       "3817            flexible                             f   \n",
       "\n",
       "     require_guest_phone_verification  calculated_host_listings_count  \\\n",
       "0                                   f                               2   \n",
       "1                                   t                               6   \n",
       "2                                   f                               2   \n",
       "3                                   f                               1   \n",
       "4                                   f                               1   \n",
       "...                               ...                             ...   \n",
       "3813                                f                               8   \n",
       "3814                                f                               1   \n",
       "3815                                f                               1   \n",
       "3816                                f                               1   \n",
       "3817                                f                               1   \n",
       "\n",
       "      reviews_per_month  \n",
       "0              4.070000  \n",
       "1              1.480000  \n",
       "2              1.150000  \n",
       "3              2.078919  \n",
       "4              0.890000  \n",
       "...                 ...  \n",
       "3813           0.300000  \n",
       "3814           2.000000  \n",
       "3815           2.078919  \n",
       "3816           2.078919  \n",
       "3817           2.078919  \n",
       "\n",
       "[3818 rows x 70 columns]"
      ]
     },
     "execution_count": 42,
     "metadata": {},
     "output_type": "execute_result"
    }
   ],
   "source": [
    "#fillin na with mean value \n",
    "\n",
    "def fill_na_mean(df, num_vars):\n",
    "    ''' \n",
    "    input:\n",
    "    df - dataframe that will be given with missing values\n",
    "    num_vars - object containing only numeric columns (int, float), the other columns has been dropped\n",
    "    output:\n",
    "    df_listings - dataframe in which the null values have been replaced with the mean of the respective columns\n",
    "    \n",
    "    '''\n",
    "    for col in num_vars:\n",
    "                df_listings[col] = df_listings[col].fillna(df_listings[col].mean(), axis=0)\n",
    "          \n",
    "    return df_listings\n",
    "\n",
    "fill_na_mean(df_listings,num_vars)"
   ]
  },
  {
   "cell_type": "code",
   "execution_count": 43,
   "id": "34884ef3",
   "metadata": {
    "scrolled": false
   },
   "outputs": [
    {
     "name": "stdout",
     "output_type": "stream",
     "text": [
      "id 0\n",
      "host_id 0\n",
      "host_listings_count 0\n",
      "host_total_listings_count 0\n",
      "latitude 0\n",
      "longitude 0\n",
      "accommodates 0\n",
      "bathrooms 0\n",
      "bedrooms 0\n",
      "beds 0\n",
      "price 0\n",
      "weekly_price 0\n",
      "guests_included 0\n",
      "minimum_nights 0\n",
      "maximum_nights 0\n",
      "availability_30 0\n",
      "availability_60 0\n",
      "availability_90 0\n",
      "availability_365 0\n",
      "number_of_reviews 0\n",
      "review_scores_rating 0\n",
      "review_scores_accuracy 0\n",
      "review_scores_cleanliness 0\n",
      "review_scores_checkin 0\n",
      "review_scores_communication 0\n",
      "review_scores_location 0\n",
      "review_scores_value 0\n",
      "calculated_host_listings_count 0\n",
      "reviews_per_month 0\n"
     ]
    }
   ],
   "source": [
    "#assess missing values, checking the null values after fillin Na\n",
    "num_cols = df_listings.select_dtypes(include=['float', 'int']).columns\n",
    "for col in num_cols:\n",
    "    print(col,df_listings[col].isnull().sum())"
   ]
  },
  {
   "cell_type": "code",
   "execution_count": 44,
   "id": "c84a63ab",
   "metadata": {
    "scrolled": false
   },
   "outputs": [
    {
     "name": "stdout",
     "output_type": "stream",
     "text": [
      "name 0\n",
      "summary 177\n",
      "space 569\n",
      "description 0\n",
      "neighborhood_overview 1032\n",
      "notes 1606\n",
      "transit 934\n",
      "host_name 2\n",
      "host_since 2\n",
      "host_location 8\n",
      "host_about 859\n",
      "host_response_time 523\n",
      "host_response_rate 523\n",
      "host_acceptance_rate 773\n",
      "host_is_superhost 2\n",
      "host_neighbourhood 300\n",
      "host_verifications 0\n",
      "host_has_profile_pic 2\n",
      "host_identity_verified 2\n",
      "street 0\n",
      "neighbourhood 416\n",
      "neighbourhood_cleansed 0\n",
      "neighbourhood_group_cleansed 0\n",
      "city 0\n",
      "state 0\n",
      "zipcode 7\n",
      "smart_location 0\n",
      "is_location_exact 0\n",
      "property_type 1\n",
      "room_type 0\n",
      "bed_type 0\n",
      "amenities 0\n",
      "cleaning_fee 1030\n",
      "extra_people 0\n",
      "calendar_updated 0\n",
      "first_review 627\n",
      "last_review 627\n",
      "instant_bookable 0\n",
      "cancellation_policy 0\n",
      "require_guest_profile_picture 0\n",
      "require_guest_phone_verification 0\n"
     ]
    }
   ],
   "source": [
    "# checking null values for categorical data\n",
    "cat_cols = df_listings.select_dtypes(include=['object']).columns\n",
    "\n",
    "categorical_data = df_listings.select_dtypes(include=['object']).columns\n",
    "for col in cat_cols:\n",
    "        print(col,df_listings[col].isnull().sum())"
   ]
  },
  {
   "cell_type": "code",
   "execution_count": 45,
   "id": "b922fa18",
   "metadata": {
    "scrolled": true
   },
   "outputs": [
    {
     "data": {
      "text/plain": [
       "Index(['name', 'summary', 'space', 'description', 'neighborhood_overview',\n",
       "       'notes', 'transit', 'host_name', 'host_since', 'host_location',\n",
       "       'host_about', 'host_response_time', 'host_response_rate',\n",
       "       'host_acceptance_rate', 'host_is_superhost', 'host_neighbourhood',\n",
       "       'host_verifications', 'host_has_profile_pic', 'host_identity_verified',\n",
       "       'street', 'neighbourhood', 'neighbourhood_cleansed',\n",
       "       'neighbourhood_group_cleansed', 'city', 'state', 'zipcode',\n",
       "       'smart_location', 'is_location_exact', 'property_type', 'room_type',\n",
       "       'bed_type', 'amenities', 'cleaning_fee', 'extra_people',\n",
       "       'calendar_updated', 'first_review', 'last_review', 'instant_bookable',\n",
       "       'cancellation_policy', 'require_guest_profile_picture',\n",
       "       'require_guest_phone_verification'],\n",
       "      dtype='object')"
      ]
     },
     "execution_count": 45,
     "metadata": {},
     "output_type": "execute_result"
    }
   ],
   "source": [
    "# categorical columns\n",
    "cat_cols"
   ]
  },
  {
   "cell_type": "code",
   "execution_count": 46,
   "id": "8546cee4",
   "metadata": {},
   "outputs": [],
   "source": [
    "#drop categorical columns for the moment, since we don't need in our analysis \n",
    "df_listings_numerical = df_listings.drop(columns=cat_cols)\n"
   ]
  },
  {
   "cell_type": "code",
   "execution_count": 47,
   "id": "326ea5e7",
   "metadata": {
    "scrolled": false
   },
   "outputs": [
    {
     "data": {
      "text/plain": [
       "Index(['id', 'host_id', 'host_listings_count', 'host_total_listings_count',\n",
       "       'latitude', 'longitude', 'accommodates', 'bathrooms', 'bedrooms',\n",
       "       'beds', 'price', 'weekly_price', 'guests_included', 'minimum_nights',\n",
       "       'maximum_nights', 'availability_30', 'availability_60',\n",
       "       'availability_90', 'availability_365', 'number_of_reviews',\n",
       "       'review_scores_rating', 'review_scores_accuracy',\n",
       "       'review_scores_cleanliness', 'review_scores_checkin',\n",
       "       'review_scores_communication', 'review_scores_location',\n",
       "       'review_scores_value', 'calculated_host_listings_count',\n",
       "       'reviews_per_month'],\n",
       "      dtype='object')"
      ]
     },
     "execution_count": 47,
     "metadata": {},
     "output_type": "execute_result"
    }
   ],
   "source": [
    "df_listings_numerical.columns"
   ]
  },
  {
   "cell_type": "code",
   "execution_count": 48,
   "id": "265fab65",
   "metadata": {},
   "outputs": [
    {
     "data": {
      "text/plain": [
       "1"
      ]
     },
     "execution_count": 48,
     "metadata": {},
     "output_type": "execute_result"
    }
   ],
   "source": [
    "# property type is one of the research questions. check null values\n",
    "df_listings.property_type.isnull().sum()"
   ]
  },
  {
   "cell_type": "code",
   "execution_count": 49,
   "id": "d6b9c8cb",
   "metadata": {},
   "outputs": [],
   "source": [
    "# since there is only one null value in the property type\n",
    "# dropping it will not have any significant impact on the dataset\n",
    "df_listings.dropna(subset=['property_type'], inplace=True)"
   ]
  },
  {
   "cell_type": "code",
   "execution_count": 50,
   "id": "87bc9282",
   "metadata": {},
   "outputs": [
    {
     "data": {
      "text/plain": [
       "0"
      ]
     },
     "execution_count": 50,
     "metadata": {},
     "output_type": "execute_result"
    }
   ],
   "source": [
    "df_listings.property_type.isnull().sum()"
   ]
  },
  {
   "cell_type": "markdown",
   "id": "c32c26cf",
   "metadata": {},
   "source": [
    "####  Review dataset"
   ]
  },
  {
   "cell_type": "code",
   "execution_count": 51,
   "id": "26d92b17",
   "metadata": {
    "scrolled": true
   },
   "outputs": [
    {
     "data": {
      "text/plain": [
       "listing_id        0\n",
       "id                0\n",
       "date              0\n",
       "reviewer_id       0\n",
       "reviewer_name     0\n",
       "comments         18\n",
       "dtype: int64"
      ]
     },
     "execution_count": 51,
     "metadata": {},
     "output_type": "execute_result"
    }
   ],
   "source": [
    "df_reviews.isnull().sum()"
   ]
  },
  {
   "cell_type": "code",
   "execution_count": 52,
   "id": "df706d91",
   "metadata": {
    "scrolled": true
   },
   "outputs": [
    {
     "data": {
      "text/plain": [
       "Index(['listing_id', 'id', 'date', 'reviewer_id', 'reviewer_name', 'comments'], dtype='object')"
      ]
     },
     "execution_count": 52,
     "metadata": {},
     "output_type": "execute_result"
    }
   ],
   "source": [
    "df_reviews.columns"
   ]
  },
  {
   "cell_type": "markdown",
   "id": "1d7a77e7",
   "metadata": {},
   "source": [
    "Reviews dataset for this level of the course does not have any impact on the price or prediction. The sentiment analysis will give us a useful information regarding positive or negative comments of the reviews.  "
   ]
  },
  {
   "cell_type": "markdown",
   "id": "2ee85f86",
   "metadata": {},
   "source": [
    "### Question 1: Price Prediction"
   ]
  },
  {
   "cell_type": "code",
   "execution_count": 53,
   "id": "1cb25197",
   "metadata": {},
   "outputs": [
    {
     "data": {
      "text/plain": [
       "id                                0\n",
       "host_id                           0\n",
       "host_listings_count               0\n",
       "host_total_listings_count         0\n",
       "latitude                          0\n",
       "longitude                         0\n",
       "accommodates                      0\n",
       "bathrooms                         0\n",
       "bedrooms                          0\n",
       "beds                              0\n",
       "price                             0\n",
       "weekly_price                      0\n",
       "guests_included                   0\n",
       "minimum_nights                    0\n",
       "maximum_nights                    0\n",
       "availability_30                   0\n",
       "availability_60                   0\n",
       "availability_90                   0\n",
       "availability_365                  0\n",
       "number_of_reviews                 0\n",
       "review_scores_rating              0\n",
       "review_scores_accuracy            0\n",
       "review_scores_cleanliness         0\n",
       "review_scores_checkin             0\n",
       "review_scores_communication       0\n",
       "review_scores_location            0\n",
       "review_scores_value               0\n",
       "calculated_host_listings_count    0\n",
       "reviews_per_month                 0\n",
       "dtype: int64"
      ]
     },
     "execution_count": 53,
     "metadata": {},
     "output_type": "execute_result"
    }
   ],
   "source": [
    "df_listings_numerical.isnull().sum()"
   ]
  },
  {
   "cell_type": "code",
   "execution_count": 54,
   "id": "d41a6f73",
   "metadata": {},
   "outputs": [
    {
     "data": {
      "text/plain": [
       "id                                0\n",
       "host_id                           0\n",
       "host_listings_count               0\n",
       "host_total_listings_count         0\n",
       "latitude                          0\n",
       "longitude                         0\n",
       "accommodates                      0\n",
       "bathrooms                         0\n",
       "bedrooms                          0\n",
       "beds                              0\n",
       "price                             0\n",
       "weekly_price                      0\n",
       "guests_included                   0\n",
       "minimum_nights                    0\n",
       "maximum_nights                    0\n",
       "availability_30                   0\n",
       "availability_60                   0\n",
       "availability_90                   0\n",
       "availability_365                  0\n",
       "number_of_reviews                 0\n",
       "review_scores_rating              0\n",
       "review_scores_accuracy            0\n",
       "review_scores_cleanliness         0\n",
       "review_scores_checkin             0\n",
       "review_scores_communication       0\n",
       "review_scores_location            0\n",
       "review_scores_value               0\n",
       "calculated_host_listings_count    0\n",
       "reviews_per_month                 0\n",
       "dtype: int64"
      ]
     },
     "execution_count": 54,
     "metadata": {},
     "output_type": "execute_result"
    }
   ],
   "source": [
    "df_listings_numerical.isnull().sum()"
   ]
  },
  {
   "cell_type": "code",
   "execution_count": 55,
   "id": "d67b80c5",
   "metadata": {},
   "outputs": [],
   "source": [
    "X = df_listings_numerical.drop(['price'], axis=1)\n",
    "y = df_listings_numerical['price']"
   ]
  },
  {
   "cell_type": "code",
   "execution_count": 56,
   "id": "4c13d7d7",
   "metadata": {},
   "outputs": [],
   "source": [
    "X_train, X_test, y_train, y_test = train_test_split(X, y, test_size= .30, random_state=42)\n"
   ]
  },
  {
   "cell_type": "code",
   "execution_count": 57,
   "id": "f5c8ef01",
   "metadata": {},
   "outputs": [
    {
     "name": "stdout",
     "output_type": "stream",
     "text": [
      "The r2score of the training data was: 0.6036762985284114\n",
      "The r2score of the test data was: 0.6089013736226425\n"
     ]
    }
   ],
   "source": [
    "#Fiting the model\n",
    "lm_model = LinearRegression()\n",
    "lm_model.fit(X_train, y_train)\n",
    "\n",
    "#Predict the model\n",
    "y_train_predict = lm_model.predict(X_train)\n",
    "y_test_predict = lm_model.predict(X_test)\n",
    "\n",
    "#score the model\n",
    "\n",
    "train_score = r2_score(y_train, y_train_predict)\n",
    "test_score = r2_score(y_test, y_test_predict)\n",
    "\n",
    "print(\"The r2score of the training data was:\", train_score)\n",
    "print(\"The r2score of the test data was:\", test_score)"
   ]
  },
  {
   "cell_type": "markdown",
   "id": "7941a694",
   "metadata": {},
   "source": [
    "#### Conclusions\n",
    "\n",
    "This section predicts the price using only numerical variables (int, float). The prediction has an r2 score of 0.6 for both the training and testing data, indicating that the predicted results are reasonably reliable."
   ]
  },
  {
   "cell_type": "markdown",
   "id": "6030c4bd",
   "metadata": {},
   "source": [
    "### Question 2: Price analysis during months/years"
   ]
  },
  {
   "cell_type": "code",
   "execution_count": 58,
   "id": "363294b5",
   "metadata": {},
   "outputs": [
    {
     "data": {
      "text/plain": [
       "array([2016, 2017], dtype=int64)"
      ]
     },
     "execution_count": 58,
     "metadata": {},
     "output_type": "execute_result"
    }
   ],
   "source": [
    "df_calendar.year.unique()"
   ]
  },
  {
   "cell_type": "code",
   "execution_count": 59,
   "id": "d3e7fecd",
   "metadata": {
    "scrolled": false
   },
   "outputs": [
    {
     "data": {
      "image/png": "[encoded data removed]",
      "text/plain": [
       "<Figure size 432x288 with 1 Axes>"
      ]
     },
     "metadata": {
      "needs_background": "light"
     },
     "output_type": "display_data"
    }
   ],
   "source": [
    "df_calendar.groupby(['year'])[['price']].mean().plot(kind=\"bar\", title='Comparison of the property price between 2016 and 2017');"
   ]
  },
  {
   "cell_type": "code",
   "execution_count": 60,
   "id": "c2085197",
   "metadata": {},
   "outputs": [],
   "source": [
    "df_groupby_year = df_calendar.groupby('year')\n"
   ]
  },
  {
   "cell_type": "code",
   "execution_count": 61,
   "id": "48f4e132",
   "metadata": {
    "scrolled": false
   },
   "outputs": [
    {
     "data": {
      "text/html": [
       "<div>\n",
       "<style scoped>\n",
       "    .dataframe tbody tr th:only-of-type {\n",
       "        vertical-align: middle;\n",
       "    }\n",
       "\n",
       "    .dataframe tbody tr th {\n",
       "        vertical-align: top;\n",
       "    }\n",
       "\n",
       "    .dataframe thead th {\n",
       "        text-align: right;\n",
       "    }\n",
       "</style>\n",
       "<table border=\"1\" class=\"dataframe\">\n",
       "  <thead>\n",
       "    <tr style=\"text-align: right;\">\n",
       "      <th></th>\n",
       "      <th>listing_id</th>\n",
       "      <th>date</th>\n",
       "      <th>available</th>\n",
       "      <th>price</th>\n",
       "      <th>month</th>\n",
       "    </tr>\n",
       "    <tr>\n",
       "      <th>year</th>\n",
       "      <th></th>\n",
       "      <th></th>\n",
       "      <th></th>\n",
       "      <th></th>\n",
       "      <th></th>\n",
       "    </tr>\n",
       "  </thead>\n",
       "  <tbody>\n",
       "    <tr>\n",
       "      <th>2016</th>\n",
       "      <td>3818</td>\n",
       "      <td>363</td>\n",
       "      <td>2</td>\n",
       "      <td>667</td>\n",
       "      <td>12</td>\n",
       "    </tr>\n",
       "    <tr>\n",
       "      <th>2017</th>\n",
       "      <td>3818</td>\n",
       "      <td>2</td>\n",
       "      <td>2</td>\n",
       "      <td>310</td>\n",
       "      <td>1</td>\n",
       "    </tr>\n",
       "  </tbody>\n",
       "</table>\n",
       "</div>"
      ],
      "text/plain": [
       "      listing_id  date  available  price  month\n",
       "year                                           \n",
       "2016        3818   363          2    667     12\n",
       "2017        3818     2          2    310      1"
      ]
     },
     "execution_count": 61,
     "metadata": {},
     "output_type": "execute_result"
    }
   ],
   "source": [
    "df_groupby_year.nunique()"
   ]
  },
  {
   "cell_type": "code",
   "execution_count": 62,
   "id": "8848bfab",
   "metadata": {},
   "outputs": [
    {
     "data": {
      "text/plain": [
       "year\n",
       "2016    1385934\n",
       "2017       7636\n",
       "dtype: int64"
      ]
     },
     "execution_count": 62,
     "metadata": {},
     "output_type": "execute_result"
    }
   ],
   "source": [
    "df_groupby_year.size()"
   ]
  },
  {
   "cell_type": "code",
   "execution_count": 63,
   "id": "ea4f23ae",
   "metadata": {
    "scrolled": true
   },
   "outputs": [],
   "source": [
    "df_2016 = df_groupby_year.get_group(2016)\n"
   ]
  },
  {
   "cell_type": "code",
   "execution_count": 64,
   "id": "aee77d3e",
   "metadata": {
    "scrolled": true
   },
   "outputs": [
    {
     "data": {
      "text/plain": [
       "<AxesSubplot:title={'center':'Comparison of the property price between months of 2016'}, xlabel='month'>"
      ]
     },
     "execution_count": 64,
     "metadata": {},
     "output_type": "execute_result"
    },
    {
     "data": {
      "image/png": "[encoded data removed]",
      "text/plain": [
       "<Figure size 432x288 with 1 Axes>"
      ]
     },
     "metadata": {
      "needs_background": "light"
     },
     "output_type": "display_data"
    }
   ],
   "source": [
    "\n",
    "df_2016.groupby(['month'])[['price']].mean().plot(kind='bar', title='Comparison of the property price between months of 2016')\n"
   ]
  },
  {
   "cell_type": "code",
   "execution_count": 65,
   "id": "787aa96c",
   "metadata": {
    "scrolled": true
   },
   "outputs": [
    {
     "data": {
      "text/html": [
       "<div>\n",
       "<style scoped>\n",
       "    .dataframe tbody tr th:only-of-type {\n",
       "        vertical-align: middle;\n",
       "    }\n",
       "\n",
       "    .dataframe tbody tr th {\n",
       "        vertical-align: top;\n",
       "    }\n",
       "\n",
       "    .dataframe thead th {\n",
       "        text-align: right;\n",
       "    }\n",
       "</style>\n",
       "<table border=\"1\" class=\"dataframe\">\n",
       "  <thead>\n",
       "    <tr style=\"text-align: right;\">\n",
       "      <th></th>\n",
       "      <th></th>\n",
       "      <th>price</th>\n",
       "    </tr>\n",
       "    <tr>\n",
       "      <th>year</th>\n",
       "      <th>month</th>\n",
       "      <th></th>\n",
       "    </tr>\n",
       "  </thead>\n",
       "  <tbody>\n",
       "    <tr>\n",
       "      <th rowspan=\"12\" valign=\"top\">2016</th>\n",
       "      <th>1</th>\n",
       "      <td>67.365028</td>\n",
       "    </tr>\n",
       "    <tr>\n",
       "      <th>2</th>\n",
       "      <td>82.308439</td>\n",
       "    </tr>\n",
       "    <tr>\n",
       "      <th>3</th>\n",
       "      <td>91.233047</td>\n",
       "    </tr>\n",
       "    <tr>\n",
       "      <th>4</th>\n",
       "      <td>89.683700</td>\n",
       "    </tr>\n",
       "    <tr>\n",
       "      <th>5</th>\n",
       "      <td>94.281823</td>\n",
       "    </tr>\n",
       "    <tr>\n",
       "      <th>6</th>\n",
       "      <td>99.453597</td>\n",
       "    </tr>\n",
       "    <tr>\n",
       "      <th>7</th>\n",
       "      <td>95.377854</td>\n",
       "    </tr>\n",
       "    <tr>\n",
       "      <th>8</th>\n",
       "      <td>97.181255</td>\n",
       "    </tr>\n",
       "    <tr>\n",
       "      <th>9</th>\n",
       "      <td>96.612092</td>\n",
       "    </tr>\n",
       "    <tr>\n",
       "      <th>10</th>\n",
       "      <td>95.444659</td>\n",
       "    </tr>\n",
       "    <tr>\n",
       "      <th>11</th>\n",
       "      <td>96.879911</td>\n",
       "    </tr>\n",
       "    <tr>\n",
       "      <th>12</th>\n",
       "      <td>100.958803</td>\n",
       "    </tr>\n",
       "    <tr>\n",
       "      <th>2017</th>\n",
       "      <th>1</th>\n",
       "      <td>102.142090</td>\n",
       "    </tr>\n",
       "  </tbody>\n",
       "</table>\n",
       "</div>"
      ],
      "text/plain": [
       "                 price\n",
       "year month            \n",
       "2016 1       67.365028\n",
       "     2       82.308439\n",
       "     3       91.233047\n",
       "     4       89.683700\n",
       "     5       94.281823\n",
       "     6       99.453597\n",
       "     7       95.377854\n",
       "     8       97.181255\n",
       "     9       96.612092\n",
       "     10      95.444659\n",
       "     11      96.879911\n",
       "     12     100.958803\n",
       "2017 1      102.142090"
      ]
     },
     "execution_count": 65,
     "metadata": {},
     "output_type": "execute_result"
    }
   ],
   "source": [
    "#2017 dataset have only January data. Below is represented the mean throughout the months   \n",
    "mean_by_year = df_calendar.groupby(['year','month'])[['price']].mean()\n",
    "mean_by_year"
   ]
  },
  {
   "cell_type": "markdown",
   "id": "5fd770d3",
   "metadata": {},
   "source": [
    "#### Conclusions\n",
    "\n",
    "The first plot compares the price between 2016 and 2017, showing that the price in January 2017 (102.14) is higher than January 2016 (67.37$). However, the dataset only includes data from January 2017, so it may not be a reliable indicator. The second plot, which compares the property price between months of 2016, shows that prices are generally higher in June and December."
   ]
  },
  {
   "cell_type": "markdown",
   "id": "c35757ce",
   "metadata": {},
   "source": [
    "### Question 3: Which property type have higher reviews and does this affect the price? "
   ]
  },
  {
   "cell_type": "code",
   "execution_count": 66,
   "id": "b4f73429",
   "metadata": {
    "scrolled": true
   },
   "outputs": [
    {
     "data": {
      "text/plain": [
       "array(['Apartment', 'House', 'Cabin', 'Condominium', 'Camper/RV',\n",
       "       'Bungalow', 'Townhouse', 'Loft', 'Boat', 'Bed & Breakfast',\n",
       "       'Other', 'Dorm', 'Treehouse', 'Yurt', 'Chalet', 'Tent'],\n",
       "      dtype=object)"
      ]
     },
     "execution_count": 66,
     "metadata": {},
     "output_type": "execute_result"
    }
   ],
   "source": [
    "df_listings.property_type.unique()"
   ]
  },
  {
   "cell_type": "markdown",
   "id": "482999c9",
   "metadata": {},
   "source": [
    "When selecting a property type, it is useful to know which ones have higher ratings and more affordable prices. To obtain this information, the mean price for each property type was calculated (using sns library) and then visually represented in a plot."
   ]
  },
  {
   "cell_type": "code",
   "execution_count": 67,
   "id": "400c5fe7",
   "metadata": {
    "scrolled": false
   },
   "outputs": [
    {
     "data": {
      "text/plain": [
       "<AxesSubplot:xlabel='property_type', ylabel='price'>"
      ]
     },
     "execution_count": 67,
     "metadata": {},
     "output_type": "execute_result"
    },
    {
     "data": {
      "image/png": "[encoded data removed]",
      "text/plain": [
       "<Figure size 1440x792 with 1 Axes>"
      ]
     },
     "metadata": {
      "needs_background": "light"
     },
     "output_type": "display_data"
    }
   ],
   "source": [
    "plt.figure(figsize=(20,11))\n",
    "sns.barplot(x = 'property_type', y = 'price', data=df_listings)\n",
    "\n"
   ]
  },
  {
   "cell_type": "markdown",
   "id": "ff1cdf52",
   "metadata": {},
   "source": [
    "From the above figure, it can be seen that the most expensive property type is a boat, while the least expensive types are a dorm, tent, chalet, and yurt"
   ]
  },
  {
   "cell_type": "code",
   "execution_count": 68,
   "id": "5d9b81f2",
   "metadata": {
    "scrolled": false
   },
   "outputs": [
    {
     "data": {
      "text/plain": [
       "property_type\n",
       "Dorm                39.500000\n",
       "Tent                54.000000\n",
       "Other               94.681818\n",
       "Chalet              98.500000\n",
       "Yurt               100.000000\n",
       "Treehouse          101.000000\n",
       "Cabin              104.666667\n",
       "Bed & Breakfast    112.054054\n",
       "Bungalow           115.615385\n",
       "Camper/RV          120.461538\n",
       "Apartment          122.932670\n",
       "Townhouse          129.457627\n",
       "House              132.351414\n",
       "Loft               135.700000\n",
       "Condominium        151.109890\n",
       "Boat               282.375000\n",
       "Name: price, dtype: float64"
      ]
     },
     "execution_count": 68,
     "metadata": {},
     "output_type": "execute_result"
    }
   ],
   "source": [
    "df_listings.groupby('property_type')['price'].mean().sort_values()"
   ]
  },
  {
   "cell_type": "markdown",
   "id": "164a3f84",
   "metadata": {},
   "source": [
    "In addition to price, it is important to ensure that a property is comfortable, cozy, and meets all necessary requirements during the stay. One way to gauge this is to check the review scores left by previous guest. It appears that the most highly rated property types are yurts and cabins."
   ]
  },
  {
   "cell_type": "code",
   "execution_count": 69,
   "id": "c08b09dc",
   "metadata": {
    "scrolled": true
   },
   "outputs": [
    {
     "data": {
      "text/plain": [
       "<AxesSubplot:xlabel='property_type', ylabel='review_scores_value'>"
      ]
     },
     "execution_count": 69,
     "metadata": {},
     "output_type": "execute_result"
    },
    {
     "data": {
      "image/png": "[encoded data removed]",
      "text/plain": [
       "<Figure size 1440x792 with 1 Axes>"
      ]
     },
     "metadata": {
      "needs_background": "light"
     },
     "output_type": "display_data"
    }
   ],
   "source": [
    "plt.figure(figsize=(20,11))\n",
    "sns.barplot(x = 'property_type', y = 'review_scores_value', data=df_listings)"
   ]
  },
  {
   "cell_type": "code",
   "execution_count": 70,
   "id": "37c37d52",
   "metadata": {
    "scrolled": true
   },
   "outputs": [
    {
     "data": {
      "text/plain": [
       "property_type\n",
       "Chalet              9.000000\n",
       "Tent                9.090449\n",
       "Apartment           9.373528\n",
       "Boat                9.419592\n",
       "Bed & Breakfast     9.431749\n",
       "Condominium         9.465952\n",
       "Loft                9.479143\n",
       "Treehouse           9.484082\n",
       "Camper/RV           9.488980\n",
       "Dorm                9.500000\n",
       "House               9.510516\n",
       "Other               9.561670\n",
       "Townhouse           9.628689\n",
       "Bungalow            9.677614\n",
       "Cabin               9.809524\n",
       "Yurt               10.000000\n",
       "Name: review_scores_value, dtype: float64"
      ]
     },
     "execution_count": 70,
     "metadata": {},
     "output_type": "execute_result"
    }
   ],
   "source": [
    "df_listings.groupby('property_type')['review_scores_value'].mean().sort_values()"
   ]
  },
  {
   "cell_type": "markdown",
   "id": "984fd179",
   "metadata": {},
   "source": [
    "The number of reviewers can significantly impact a property's rating. Examining the number of reviewers for each property type can therefore be a useful indicator. The below figure shows that the number of people who leave reviews varies greatly between different property types. For instance, around 92 people gave feedback for cabins, while only about 6 people did so for bungalows."
   ]
  },
  {
   "cell_type": "code",
   "execution_count": 71,
   "id": "e6e84f80",
   "metadata": {},
   "outputs": [
    {
     "data": {
      "text/plain": [
       "<AxesSubplot:xlabel='property_type', ylabel='number_of_reviews'>"
      ]
     },
     "execution_count": 71,
     "metadata": {},
     "output_type": "execute_result"
    },
    {
     "data": {
      "image/png": "[encoded data removed]",
      "text/plain": [
       "<Figure size 1440x792 with 1 Axes>"
      ]
     },
     "metadata": {
      "needs_background": "light"
     },
     "output_type": "display_data"
    }
   ],
   "source": [
    "plt.figure(figsize=(20,11))\n",
    "sns.barplot(x = 'property_type', y = 'number_of_reviews', data=df_listings)"
   ]
  },
  {
   "cell_type": "code",
   "execution_count": 72,
   "id": "55f858c7",
   "metadata": {
    "scrolled": true
   },
   "outputs": [
    {
     "data": {
      "text/plain": [
       "property_type\n",
       "Bungalow            5.692308\n",
       "Chalet              6.000000\n",
       "Tent                6.400000\n",
       "Condominium         8.065934\n",
       "Boat                8.375000\n",
       "Townhouse           9.483051\n",
       "Treehouse          10.000000\n",
       "Dorm               11.000000\n",
       "Apartment          21.213115\n",
       "House              23.366994\n",
       "Bed & Breakfast    24.162162\n",
       "Yurt               25.000000\n",
       "Other              32.681818\n",
       "Loft               45.300000\n",
       "Camper/RV          49.076923\n",
       "Cabin              92.571429\n",
       "Name: number_of_reviews, dtype: float64"
      ]
     },
     "execution_count": 72,
     "metadata": {},
     "output_type": "execute_result"
    }
   ],
   "source": [
    "df_listings.groupby('property_type')['number_of_reviews'].mean().sort_values()"
   ]
  },
  {
   "cell_type": "markdown",
   "id": "6e604889",
   "metadata": {},
   "source": [
    "### Conclusions\n",
    "\n",
    "By considering the price, number of reviews per property, and review score, we can gain a better understanding of which properties have higher and lower prices and how price may affect reviews According to the charts, the boat is the most expensive property, with a nightly rate of approximately 282.37. It is also towards the bottom of the review_scores list. Based on review_scores, number_of_reviews, and price, the top-rated properties are Cabin, Camper, Loft, and Yurt. These properties have a price range of 100-135$ and an average review score of over 9.5. It appears that medium-priced properties have a higher number of guests, more reviews, and are also highly rated."
   ]
  }
 ],
 "metadata": {
  "kernelspec": {
   "display_name": "Python 3 (ipykernel)",
   "language": "python",
   "name": "python3"
  },
  "language_info": {
   "codemirror_mode": {
    "name": "ipython",
    "version": 3
   },
   "file_extension": ".py",
   "mimetype": "text/x-python",
   "name": "python",
   "nbconvert_exporter": "python",
   "pygments_lexer": "ipython3",
   "version": "3.9.12"
  }
 },
 "nbformat": 4,
 "nbformat_minor": 5
}
